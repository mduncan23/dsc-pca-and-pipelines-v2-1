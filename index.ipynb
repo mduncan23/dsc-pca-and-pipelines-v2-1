{
 "cells": [
  {
   "cell_type": "markdown",
   "metadata": {},
   "source": [
    "# Integrating PCA in Pipelines - Lab"
   ]
  },
  {
   "cell_type": "markdown",
   "metadata": {},
   "source": [
    "## Introduction"
   ]
  },
  {
   "cell_type": "markdown",
   "metadata": {},
   "source": [
    "In a previous section, you learned about how to use pipelines in scikit-learn to combine several supervised learning algorithms in a manageable pipeline. In this lesson, you will integrate PCA along with classifiers in the pipeline. "
   ]
  },
  {
   "cell_type": "markdown",
   "metadata": {},
   "source": [
    "## Objectives\n",
    "\n",
    "In this lab you will: \n",
    "\n",
    "- Integrate PCA in scikit-learn pipelines "
   ]
  },
  {
   "cell_type": "markdown",
   "metadata": {},
   "source": [
    "## The Data Science Workflow"
   ]
  },
  {
   "cell_type": "markdown",
   "metadata": {},
   "source": [
    "You will be following the data science workflow:\n",
    "\n",
    "1. Initial data inspection, exploratory data analysis, and cleaning\n",
    "2. Feature engineering and selection\n",
    "3. Create a baseline model\n",
    "4. Create a machine learning pipeline and compare results with the baseline model\n",
    "5. Interpret the model and draw conclusions"
   ]
  },
  {
   "cell_type": "markdown",
   "metadata": {},
   "source": [
    "##  Initial data inspection, exploratory data analysis, and cleaning"
   ]
  },
  {
   "cell_type": "markdown",
   "metadata": {},
   "source": [
    "You'll use a dataset created by the Otto group, which was also used in a [Kaggle competition](https://www.kaggle.com/c/otto-group-product-classification-challenge/data). The description of the dataset is as follows:\n",
    "\n",
    "The Otto Group is one of the world’s biggest e-commerce companies, with subsidiaries in more than 20 countries, including Crate & Barrel (USA), Otto.de (Germany) and 3 Suisses (France). They are selling millions of products worldwide every day, with several thousand products being added to their product line.\n",
    "\n",
    "A consistent analysis of the performance of their products is crucial. However, due to their global infrastructure, many identical products get classified differently. Therefore, the quality of product analysis depends heavily on the ability to accurately cluster similar products. The better the classification, the more insights the Otto Group can generate about their product range.\n",
    "\n",
    "In this lab, you'll use a dataset containing:\n",
    "- A column `id`, which is an anonymous id unique to a product\n",
    "- 93 columns `feat_1`, `feat_2`, ..., `feat_93`, which are the various features of a product\n",
    "- a column `target` - the class of a product\n",
    "\n",
    "\n",
    "\n",
    "The dataset is stored in the `'otto_group.csv'` file. Import this file into a DataFrame called `data`, and then: \n",
    "\n",
    "- Check for missing values \n",
    "- Check the distribution of columns \n",
    "- ... and any other things that come to your mind to explore the data "
   ]
  },
  {
   "cell_type": "code",
   "execution_count": 1,
   "metadata": {
    "ExecuteTime": {
     "end_time": "2023-01-21T22:49:14.851850Z",
     "start_time": "2023-01-21T22:49:14.554199Z"
    }
   },
   "outputs": [
    {
     "data": {
      "text/html": [
       "<div>\n",
       "<style scoped>\n",
       "    .dataframe tbody tr th:only-of-type {\n",
       "        vertical-align: middle;\n",
       "    }\n",
       "\n",
       "    .dataframe tbody tr th {\n",
       "        vertical-align: top;\n",
       "    }\n",
       "\n",
       "    .dataframe thead th {\n",
       "        text-align: right;\n",
       "    }\n",
       "</style>\n",
       "<table border=\"1\" class=\"dataframe\">\n",
       "  <thead>\n",
       "    <tr style=\"text-align: right;\">\n",
       "      <th></th>\n",
       "      <th>feat_1</th>\n",
       "      <th>feat_2</th>\n",
       "      <th>feat_3</th>\n",
       "      <th>feat_4</th>\n",
       "      <th>feat_5</th>\n",
       "      <th>feat_6</th>\n",
       "      <th>feat_7</th>\n",
       "      <th>feat_8</th>\n",
       "      <th>feat_9</th>\n",
       "      <th>feat_10</th>\n",
       "      <th>...</th>\n",
       "      <th>feat_85</th>\n",
       "      <th>feat_86</th>\n",
       "      <th>feat_87</th>\n",
       "      <th>feat_88</th>\n",
       "      <th>feat_89</th>\n",
       "      <th>feat_90</th>\n",
       "      <th>feat_91</th>\n",
       "      <th>feat_92</th>\n",
       "      <th>feat_93</th>\n",
       "      <th>target</th>\n",
       "    </tr>\n",
       "    <tr>\n",
       "      <th>id</th>\n",
       "      <th></th>\n",
       "      <th></th>\n",
       "      <th></th>\n",
       "      <th></th>\n",
       "      <th></th>\n",
       "      <th></th>\n",
       "      <th></th>\n",
       "      <th></th>\n",
       "      <th></th>\n",
       "      <th></th>\n",
       "      <th></th>\n",
       "      <th></th>\n",
       "      <th></th>\n",
       "      <th></th>\n",
       "      <th></th>\n",
       "      <th></th>\n",
       "      <th></th>\n",
       "      <th></th>\n",
       "      <th></th>\n",
       "      <th></th>\n",
       "      <th></th>\n",
       "    </tr>\n",
       "  </thead>\n",
       "  <tbody>\n",
       "    <tr>\n",
       "      <th>1</th>\n",
       "      <td>1</td>\n",
       "      <td>0</td>\n",
       "      <td>0</td>\n",
       "      <td>0</td>\n",
       "      <td>0</td>\n",
       "      <td>0</td>\n",
       "      <td>0</td>\n",
       "      <td>0</td>\n",
       "      <td>0</td>\n",
       "      <td>0</td>\n",
       "      <td>...</td>\n",
       "      <td>1</td>\n",
       "      <td>0</td>\n",
       "      <td>0</td>\n",
       "      <td>0</td>\n",
       "      <td>0</td>\n",
       "      <td>0</td>\n",
       "      <td>0</td>\n",
       "      <td>0</td>\n",
       "      <td>0</td>\n",
       "      <td>Class_1</td>\n",
       "    </tr>\n",
       "    <tr>\n",
       "      <th>2</th>\n",
       "      <td>0</td>\n",
       "      <td>0</td>\n",
       "      <td>0</td>\n",
       "      <td>0</td>\n",
       "      <td>0</td>\n",
       "      <td>0</td>\n",
       "      <td>0</td>\n",
       "      <td>1</td>\n",
       "      <td>0</td>\n",
       "      <td>0</td>\n",
       "      <td>...</td>\n",
       "      <td>0</td>\n",
       "      <td>0</td>\n",
       "      <td>0</td>\n",
       "      <td>0</td>\n",
       "      <td>0</td>\n",
       "      <td>0</td>\n",
       "      <td>0</td>\n",
       "      <td>0</td>\n",
       "      <td>0</td>\n",
       "      <td>Class_1</td>\n",
       "    </tr>\n",
       "    <tr>\n",
       "      <th>3</th>\n",
       "      <td>0</td>\n",
       "      <td>0</td>\n",
       "      <td>0</td>\n",
       "      <td>0</td>\n",
       "      <td>0</td>\n",
       "      <td>0</td>\n",
       "      <td>0</td>\n",
       "      <td>1</td>\n",
       "      <td>0</td>\n",
       "      <td>0</td>\n",
       "      <td>...</td>\n",
       "      <td>0</td>\n",
       "      <td>0</td>\n",
       "      <td>0</td>\n",
       "      <td>0</td>\n",
       "      <td>0</td>\n",
       "      <td>0</td>\n",
       "      <td>0</td>\n",
       "      <td>0</td>\n",
       "      <td>0</td>\n",
       "      <td>Class_1</td>\n",
       "    </tr>\n",
       "    <tr>\n",
       "      <th>4</th>\n",
       "      <td>1</td>\n",
       "      <td>0</td>\n",
       "      <td>0</td>\n",
       "      <td>1</td>\n",
       "      <td>6</td>\n",
       "      <td>1</td>\n",
       "      <td>5</td>\n",
       "      <td>0</td>\n",
       "      <td>0</td>\n",
       "      <td>1</td>\n",
       "      <td>...</td>\n",
       "      <td>0</td>\n",
       "      <td>1</td>\n",
       "      <td>2</td>\n",
       "      <td>0</td>\n",
       "      <td>0</td>\n",
       "      <td>0</td>\n",
       "      <td>0</td>\n",
       "      <td>0</td>\n",
       "      <td>0</td>\n",
       "      <td>Class_1</td>\n",
       "    </tr>\n",
       "    <tr>\n",
       "      <th>5</th>\n",
       "      <td>0</td>\n",
       "      <td>0</td>\n",
       "      <td>0</td>\n",
       "      <td>0</td>\n",
       "      <td>0</td>\n",
       "      <td>0</td>\n",
       "      <td>0</td>\n",
       "      <td>0</td>\n",
       "      <td>0</td>\n",
       "      <td>0</td>\n",
       "      <td>...</td>\n",
       "      <td>1</td>\n",
       "      <td>0</td>\n",
       "      <td>0</td>\n",
       "      <td>0</td>\n",
       "      <td>0</td>\n",
       "      <td>1</td>\n",
       "      <td>0</td>\n",
       "      <td>0</td>\n",
       "      <td>0</td>\n",
       "      <td>Class_1</td>\n",
       "    </tr>\n",
       "  </tbody>\n",
       "</table>\n",
       "<p>5 rows × 94 columns</p>\n",
       "</div>"
      ],
      "text/plain": [
       "    feat_1  feat_2  feat_3  feat_4  feat_5  feat_6  feat_7  feat_8  feat_9  \\\n",
       "id                                                                           \n",
       "1        1       0       0       0       0       0       0       0       0   \n",
       "2        0       0       0       0       0       0       0       1       0   \n",
       "3        0       0       0       0       0       0       0       1       0   \n",
       "4        1       0       0       1       6       1       5       0       0   \n",
       "5        0       0       0       0       0       0       0       0       0   \n",
       "\n",
       "    feat_10  ...  feat_85  feat_86  feat_87  feat_88  feat_89  feat_90  \\\n",
       "id           ...                                                         \n",
       "1         0  ...        1        0        0        0        0        0   \n",
       "2         0  ...        0        0        0        0        0        0   \n",
       "3         0  ...        0        0        0        0        0        0   \n",
       "4         1  ...        0        1        2        0        0        0   \n",
       "5         0  ...        1        0        0        0        0        1   \n",
       "\n",
       "    feat_91  feat_92  feat_93   target  \n",
       "id                                      \n",
       "1         0        0        0  Class_1  \n",
       "2         0        0        0  Class_1  \n",
       "3         0        0        0  Class_1  \n",
       "4         0        0        0  Class_1  \n",
       "5         0        0        0  Class_1  \n",
       "\n",
       "[5 rows x 94 columns]"
      ]
     },
     "execution_count": 1,
     "metadata": {},
     "output_type": "execute_result"
    }
   ],
   "source": [
    "# Your code here\n",
    "import pandas as pd\n",
    "import numpy as np\n",
    "\n",
    "data = pd.read_csv('otto_group.csv', index_col='id')\n",
    "data.head()"
   ]
  },
  {
   "cell_type": "code",
   "execution_count": 2,
   "metadata": {
    "ExecuteTime": {
     "end_time": "2023-01-21T22:49:21.010659Z",
     "start_time": "2023-01-21T22:49:20.986626Z"
    }
   },
   "outputs": [
    {
     "data": {
      "text/plain": [
       "0"
      ]
     },
     "execution_count": 2,
     "metadata": {},
     "output_type": "execute_result"
    }
   ],
   "source": [
    "# Your code here\n",
    "data.isna().sum().sum()"
   ]
  },
  {
   "cell_type": "code",
   "execution_count": 3,
   "metadata": {
    "ExecuteTime": {
     "end_time": "2023-01-21T22:49:25.550689Z",
     "start_time": "2023-01-21T22:49:25.521447Z"
    }
   },
   "outputs": [
    {
     "name": "stdout",
     "output_type": "stream",
     "text": [
      "<class 'pandas.core.frame.DataFrame'>\n",
      "Int64Index: 61878 entries, 1 to 61878\n",
      "Data columns (total 94 columns):\n",
      " #   Column   Non-Null Count  Dtype \n",
      "---  ------   --------------  ----- \n",
      " 0   feat_1   61878 non-null  int64 \n",
      " 1   feat_2   61878 non-null  int64 \n",
      " 2   feat_3   61878 non-null  int64 \n",
      " 3   feat_4   61878 non-null  int64 \n",
      " 4   feat_5   61878 non-null  int64 \n",
      " 5   feat_6   61878 non-null  int64 \n",
      " 6   feat_7   61878 non-null  int64 \n",
      " 7   feat_8   61878 non-null  int64 \n",
      " 8   feat_9   61878 non-null  int64 \n",
      " 9   feat_10  61878 non-null  int64 \n",
      " 10  feat_11  61878 non-null  int64 \n",
      " 11  feat_12  61878 non-null  int64 \n",
      " 12  feat_13  61878 non-null  int64 \n",
      " 13  feat_14  61878 non-null  int64 \n",
      " 14  feat_15  61878 non-null  int64 \n",
      " 15  feat_16  61878 non-null  int64 \n",
      " 16  feat_17  61878 non-null  int64 \n",
      " 17  feat_18  61878 non-null  int64 \n",
      " 18  feat_19  61878 non-null  int64 \n",
      " 19  feat_20  61878 non-null  int64 \n",
      " 20  feat_21  61878 non-null  int64 \n",
      " 21  feat_22  61878 non-null  int64 \n",
      " 22  feat_23  61878 non-null  int64 \n",
      " 23  feat_24  61878 non-null  int64 \n",
      " 24  feat_25  61878 non-null  int64 \n",
      " 25  feat_26  61878 non-null  int64 \n",
      " 26  feat_27  61878 non-null  int64 \n",
      " 27  feat_28  61878 non-null  int64 \n",
      " 28  feat_29  61878 non-null  int64 \n",
      " 29  feat_30  61878 non-null  int64 \n",
      " 30  feat_31  61878 non-null  int64 \n",
      " 31  feat_32  61878 non-null  int64 \n",
      " 32  feat_33  61878 non-null  int64 \n",
      " 33  feat_34  61878 non-null  int64 \n",
      " 34  feat_35  61878 non-null  int64 \n",
      " 35  feat_36  61878 non-null  int64 \n",
      " 36  feat_37  61878 non-null  int64 \n",
      " 37  feat_38  61878 non-null  int64 \n",
      " 38  feat_39  61878 non-null  int64 \n",
      " 39  feat_40  61878 non-null  int64 \n",
      " 40  feat_41  61878 non-null  int64 \n",
      " 41  feat_42  61878 non-null  int64 \n",
      " 42  feat_43  61878 non-null  int64 \n",
      " 43  feat_44  61878 non-null  int64 \n",
      " 44  feat_45  61878 non-null  int64 \n",
      " 45  feat_46  61878 non-null  int64 \n",
      " 46  feat_47  61878 non-null  int64 \n",
      " 47  feat_48  61878 non-null  int64 \n",
      " 48  feat_49  61878 non-null  int64 \n",
      " 49  feat_50  61878 non-null  int64 \n",
      " 50  feat_51  61878 non-null  int64 \n",
      " 51  feat_52  61878 non-null  int64 \n",
      " 52  feat_53  61878 non-null  int64 \n",
      " 53  feat_54  61878 non-null  int64 \n",
      " 54  feat_55  61878 non-null  int64 \n",
      " 55  feat_56  61878 non-null  int64 \n",
      " 56  feat_57  61878 non-null  int64 \n",
      " 57  feat_58  61878 non-null  int64 \n",
      " 58  feat_59  61878 non-null  int64 \n",
      " 59  feat_60  61878 non-null  int64 \n",
      " 60  feat_61  61878 non-null  int64 \n",
      " 61  feat_62  61878 non-null  int64 \n",
      " 62  feat_63  61878 non-null  int64 \n",
      " 63  feat_64  61878 non-null  int64 \n",
      " 64  feat_65  61878 non-null  int64 \n",
      " 65  feat_66  61878 non-null  int64 \n",
      " 66  feat_67  61878 non-null  int64 \n",
      " 67  feat_68  61878 non-null  int64 \n",
      " 68  feat_69  61878 non-null  int64 \n",
      " 69  feat_70  61878 non-null  int64 \n",
      " 70  feat_71  61878 non-null  int64 \n",
      " 71  feat_72  61878 non-null  int64 \n",
      " 72  feat_73  61878 non-null  int64 \n",
      " 73  feat_74  61878 non-null  int64 \n",
      " 74  feat_75  61878 non-null  int64 \n",
      " 75  feat_76  61878 non-null  int64 \n",
      " 76  feat_77  61878 non-null  int64 \n",
      " 77  feat_78  61878 non-null  int64 \n",
      " 78  feat_79  61878 non-null  int64 \n",
      " 79  feat_80  61878 non-null  int64 \n",
      " 80  feat_81  61878 non-null  int64 \n",
      " 81  feat_82  61878 non-null  int64 \n",
      " 82  feat_83  61878 non-null  int64 \n",
      " 83  feat_84  61878 non-null  int64 \n",
      " 84  feat_85  61878 non-null  int64 \n",
      " 85  feat_86  61878 non-null  int64 \n",
      " 86  feat_87  61878 non-null  int64 \n",
      " 87  feat_88  61878 non-null  int64 \n",
      " 88  feat_89  61878 non-null  int64 \n",
      " 89  feat_90  61878 non-null  int64 \n",
      " 90  feat_91  61878 non-null  int64 \n",
      " 91  feat_92  61878 non-null  int64 \n",
      " 92  feat_93  61878 non-null  int64 \n",
      " 93  target   61878 non-null  object\n",
      "dtypes: int64(93), object(1)\n",
      "memory usage: 44.8+ MB\n"
     ]
    }
   ],
   "source": [
    "# Your code here\n",
    "data.info()"
   ]
  },
  {
   "cell_type": "code",
   "execution_count": 4,
   "metadata": {
    "ExecuteTime": {
     "end_time": "2023-01-21T22:49:35.211649Z",
     "start_time": "2023-01-21T22:49:35.089857Z"
    }
   },
   "outputs": [
    {
     "data": {
      "text/html": [
       "<div>\n",
       "<style scoped>\n",
       "    .dataframe tbody tr th:only-of-type {\n",
       "        vertical-align: middle;\n",
       "    }\n",
       "\n",
       "    .dataframe tbody tr th {\n",
       "        vertical-align: top;\n",
       "    }\n",
       "\n",
       "    .dataframe thead th {\n",
       "        text-align: right;\n",
       "    }\n",
       "</style>\n",
       "<table border=\"1\" class=\"dataframe\">\n",
       "  <thead>\n",
       "    <tr style=\"text-align: right;\">\n",
       "      <th></th>\n",
       "      <th>feat_1</th>\n",
       "      <th>feat_2</th>\n",
       "      <th>feat_3</th>\n",
       "      <th>feat_4</th>\n",
       "      <th>feat_5</th>\n",
       "      <th>feat_6</th>\n",
       "      <th>feat_7</th>\n",
       "      <th>feat_8</th>\n",
       "      <th>feat_9</th>\n",
       "      <th>feat_10</th>\n",
       "      <th>...</th>\n",
       "      <th>feat_84</th>\n",
       "      <th>feat_85</th>\n",
       "      <th>feat_86</th>\n",
       "      <th>feat_87</th>\n",
       "      <th>feat_88</th>\n",
       "      <th>feat_89</th>\n",
       "      <th>feat_90</th>\n",
       "      <th>feat_91</th>\n",
       "      <th>feat_92</th>\n",
       "      <th>feat_93</th>\n",
       "    </tr>\n",
       "  </thead>\n",
       "  <tbody>\n",
       "    <tr>\n",
       "      <th>count</th>\n",
       "      <td>61878.00000</td>\n",
       "      <td>61878.000000</td>\n",
       "      <td>61878.000000</td>\n",
       "      <td>61878.000000</td>\n",
       "      <td>61878.000000</td>\n",
       "      <td>61878.000000</td>\n",
       "      <td>61878.000000</td>\n",
       "      <td>61878.000000</td>\n",
       "      <td>61878.000000</td>\n",
       "      <td>61878.000000</td>\n",
       "      <td>...</td>\n",
       "      <td>61878.000000</td>\n",
       "      <td>61878.000000</td>\n",
       "      <td>61878.000000</td>\n",
       "      <td>61878.000000</td>\n",
       "      <td>61878.000000</td>\n",
       "      <td>61878.000000</td>\n",
       "      <td>61878.000000</td>\n",
       "      <td>61878.000000</td>\n",
       "      <td>61878.000000</td>\n",
       "      <td>61878.000000</td>\n",
       "    </tr>\n",
       "    <tr>\n",
       "      <th>mean</th>\n",
       "      <td>0.38668</td>\n",
       "      <td>0.263066</td>\n",
       "      <td>0.901467</td>\n",
       "      <td>0.779081</td>\n",
       "      <td>0.071043</td>\n",
       "      <td>0.025696</td>\n",
       "      <td>0.193704</td>\n",
       "      <td>0.662433</td>\n",
       "      <td>1.011296</td>\n",
       "      <td>0.263906</td>\n",
       "      <td>...</td>\n",
       "      <td>0.070752</td>\n",
       "      <td>0.532306</td>\n",
       "      <td>1.128576</td>\n",
       "      <td>0.393549</td>\n",
       "      <td>0.874915</td>\n",
       "      <td>0.457772</td>\n",
       "      <td>0.812421</td>\n",
       "      <td>0.264941</td>\n",
       "      <td>0.380119</td>\n",
       "      <td>0.126135</td>\n",
       "    </tr>\n",
       "    <tr>\n",
       "      <th>std</th>\n",
       "      <td>1.52533</td>\n",
       "      <td>1.252073</td>\n",
       "      <td>2.934818</td>\n",
       "      <td>2.788005</td>\n",
       "      <td>0.438902</td>\n",
       "      <td>0.215333</td>\n",
       "      <td>1.030102</td>\n",
       "      <td>2.255770</td>\n",
       "      <td>3.474822</td>\n",
       "      <td>1.083340</td>\n",
       "      <td>...</td>\n",
       "      <td>1.151460</td>\n",
       "      <td>1.900438</td>\n",
       "      <td>2.681554</td>\n",
       "      <td>1.575455</td>\n",
       "      <td>2.115466</td>\n",
       "      <td>1.527385</td>\n",
       "      <td>4.597804</td>\n",
       "      <td>2.045646</td>\n",
       "      <td>0.982385</td>\n",
       "      <td>1.201720</td>\n",
       "    </tr>\n",
       "    <tr>\n",
       "      <th>min</th>\n",
       "      <td>0.00000</td>\n",
       "      <td>0.000000</td>\n",
       "      <td>0.000000</td>\n",
       "      <td>0.000000</td>\n",
       "      <td>0.000000</td>\n",
       "      <td>0.000000</td>\n",
       "      <td>0.000000</td>\n",
       "      <td>0.000000</td>\n",
       "      <td>0.000000</td>\n",
       "      <td>0.000000</td>\n",
       "      <td>...</td>\n",
       "      <td>0.000000</td>\n",
       "      <td>0.000000</td>\n",
       "      <td>0.000000</td>\n",
       "      <td>0.000000</td>\n",
       "      <td>0.000000</td>\n",
       "      <td>0.000000</td>\n",
       "      <td>0.000000</td>\n",
       "      <td>0.000000</td>\n",
       "      <td>0.000000</td>\n",
       "      <td>0.000000</td>\n",
       "    </tr>\n",
       "    <tr>\n",
       "      <th>25%</th>\n",
       "      <td>0.00000</td>\n",
       "      <td>0.000000</td>\n",
       "      <td>0.000000</td>\n",
       "      <td>0.000000</td>\n",
       "      <td>0.000000</td>\n",
       "      <td>0.000000</td>\n",
       "      <td>0.000000</td>\n",
       "      <td>0.000000</td>\n",
       "      <td>0.000000</td>\n",
       "      <td>0.000000</td>\n",
       "      <td>...</td>\n",
       "      <td>0.000000</td>\n",
       "      <td>0.000000</td>\n",
       "      <td>0.000000</td>\n",
       "      <td>0.000000</td>\n",
       "      <td>0.000000</td>\n",
       "      <td>0.000000</td>\n",
       "      <td>0.000000</td>\n",
       "      <td>0.000000</td>\n",
       "      <td>0.000000</td>\n",
       "      <td>0.000000</td>\n",
       "    </tr>\n",
       "    <tr>\n",
       "      <th>50%</th>\n",
       "      <td>0.00000</td>\n",
       "      <td>0.000000</td>\n",
       "      <td>0.000000</td>\n",
       "      <td>0.000000</td>\n",
       "      <td>0.000000</td>\n",
       "      <td>0.000000</td>\n",
       "      <td>0.000000</td>\n",
       "      <td>0.000000</td>\n",
       "      <td>0.000000</td>\n",
       "      <td>0.000000</td>\n",
       "      <td>...</td>\n",
       "      <td>0.000000</td>\n",
       "      <td>0.000000</td>\n",
       "      <td>0.000000</td>\n",
       "      <td>0.000000</td>\n",
       "      <td>0.000000</td>\n",
       "      <td>0.000000</td>\n",
       "      <td>0.000000</td>\n",
       "      <td>0.000000</td>\n",
       "      <td>0.000000</td>\n",
       "      <td>0.000000</td>\n",
       "    </tr>\n",
       "    <tr>\n",
       "      <th>75%</th>\n",
       "      <td>0.00000</td>\n",
       "      <td>0.000000</td>\n",
       "      <td>0.000000</td>\n",
       "      <td>0.000000</td>\n",
       "      <td>0.000000</td>\n",
       "      <td>0.000000</td>\n",
       "      <td>0.000000</td>\n",
       "      <td>1.000000</td>\n",
       "      <td>0.000000</td>\n",
       "      <td>0.000000</td>\n",
       "      <td>...</td>\n",
       "      <td>0.000000</td>\n",
       "      <td>0.000000</td>\n",
       "      <td>1.000000</td>\n",
       "      <td>0.000000</td>\n",
       "      <td>1.000000</td>\n",
       "      <td>0.000000</td>\n",
       "      <td>0.000000</td>\n",
       "      <td>0.000000</td>\n",
       "      <td>0.000000</td>\n",
       "      <td>0.000000</td>\n",
       "    </tr>\n",
       "    <tr>\n",
       "      <th>max</th>\n",
       "      <td>61.00000</td>\n",
       "      <td>51.000000</td>\n",
       "      <td>64.000000</td>\n",
       "      <td>70.000000</td>\n",
       "      <td>19.000000</td>\n",
       "      <td>10.000000</td>\n",
       "      <td>38.000000</td>\n",
       "      <td>76.000000</td>\n",
       "      <td>43.000000</td>\n",
       "      <td>30.000000</td>\n",
       "      <td>...</td>\n",
       "      <td>76.000000</td>\n",
       "      <td>55.000000</td>\n",
       "      <td>65.000000</td>\n",
       "      <td>67.000000</td>\n",
       "      <td>30.000000</td>\n",
       "      <td>61.000000</td>\n",
       "      <td>130.000000</td>\n",
       "      <td>52.000000</td>\n",
       "      <td>19.000000</td>\n",
       "      <td>87.000000</td>\n",
       "    </tr>\n",
       "  </tbody>\n",
       "</table>\n",
       "<p>8 rows × 93 columns</p>\n",
       "</div>"
      ],
      "text/plain": [
       "            feat_1        feat_2        feat_3        feat_4        feat_5  \\\n",
       "count  61878.00000  61878.000000  61878.000000  61878.000000  61878.000000   \n",
       "mean       0.38668      0.263066      0.901467      0.779081      0.071043   \n",
       "std        1.52533      1.252073      2.934818      2.788005      0.438902   \n",
       "min        0.00000      0.000000      0.000000      0.000000      0.000000   \n",
       "25%        0.00000      0.000000      0.000000      0.000000      0.000000   \n",
       "50%        0.00000      0.000000      0.000000      0.000000      0.000000   \n",
       "75%        0.00000      0.000000      0.000000      0.000000      0.000000   \n",
       "max       61.00000     51.000000     64.000000     70.000000     19.000000   \n",
       "\n",
       "             feat_6        feat_7        feat_8        feat_9       feat_10  \\\n",
       "count  61878.000000  61878.000000  61878.000000  61878.000000  61878.000000   \n",
       "mean       0.025696      0.193704      0.662433      1.011296      0.263906   \n",
       "std        0.215333      1.030102      2.255770      3.474822      1.083340   \n",
       "min        0.000000      0.000000      0.000000      0.000000      0.000000   \n",
       "25%        0.000000      0.000000      0.000000      0.000000      0.000000   \n",
       "50%        0.000000      0.000000      0.000000      0.000000      0.000000   \n",
       "75%        0.000000      0.000000      1.000000      0.000000      0.000000   \n",
       "max       10.000000     38.000000     76.000000     43.000000     30.000000   \n",
       "\n",
       "       ...       feat_84       feat_85       feat_86       feat_87  \\\n",
       "count  ...  61878.000000  61878.000000  61878.000000  61878.000000   \n",
       "mean   ...      0.070752      0.532306      1.128576      0.393549   \n",
       "std    ...      1.151460      1.900438      2.681554      1.575455   \n",
       "min    ...      0.000000      0.000000      0.000000      0.000000   \n",
       "25%    ...      0.000000      0.000000      0.000000      0.000000   \n",
       "50%    ...      0.000000      0.000000      0.000000      0.000000   \n",
       "75%    ...      0.000000      0.000000      1.000000      0.000000   \n",
       "max    ...     76.000000     55.000000     65.000000     67.000000   \n",
       "\n",
       "            feat_88       feat_89       feat_90       feat_91       feat_92  \\\n",
       "count  61878.000000  61878.000000  61878.000000  61878.000000  61878.000000   \n",
       "mean       0.874915      0.457772      0.812421      0.264941      0.380119   \n",
       "std        2.115466      1.527385      4.597804      2.045646      0.982385   \n",
       "min        0.000000      0.000000      0.000000      0.000000      0.000000   \n",
       "25%        0.000000      0.000000      0.000000      0.000000      0.000000   \n",
       "50%        0.000000      0.000000      0.000000      0.000000      0.000000   \n",
       "75%        1.000000      0.000000      0.000000      0.000000      0.000000   \n",
       "max       30.000000     61.000000    130.000000     52.000000     19.000000   \n",
       "\n",
       "            feat_93  \n",
       "count  61878.000000  \n",
       "mean       0.126135  \n",
       "std        1.201720  \n",
       "min        0.000000  \n",
       "25%        0.000000  \n",
       "50%        0.000000  \n",
       "75%        0.000000  \n",
       "max       87.000000  \n",
       "\n",
       "[8 rows x 93 columns]"
      ]
     },
     "execution_count": 4,
     "metadata": {},
     "output_type": "execute_result"
    }
   ],
   "source": [
    "# Your code here\n",
    "data.describe()"
   ]
  },
  {
   "cell_type": "code",
   "execution_count": 5,
   "metadata": {
    "ExecuteTime": {
     "end_time": "2023-01-21T22:49:43.604922Z",
     "start_time": "2023-01-21T22:49:42.378468Z"
    }
   },
   "outputs": [
    {
     "data": {
      "image/png": "[encoded data removed]",
      "text/plain": [
       "<Figure size 1440x1440 with 25 Axes>"
      ]
     },
     "metadata": {
      "needs_background": "light"
     },
     "output_type": "display_data"
    }
   ],
   "source": [
    "# Your code here\n",
    "collist_1 = data.columns[:24]\n",
    "collist_2 = data.columns[24:48]\n",
    "collist_3 = data.columns[48:71]\n",
    "collist_4 = data.columns[71:94]\n",
    "data[collist_1].hist(figsize=(20,20));"
   ]
  },
  {
   "cell_type": "code",
   "execution_count": 6,
   "metadata": {
    "ExecuteTime": {
     "end_time": "2023-01-21T22:49:56.395411Z",
     "start_time": "2023-01-21T22:49:55.298485Z"
    }
   },
   "outputs": [
    {
     "data": {
      "image/png": "[encoded data removed]",
      "text/plain": [
       "<Figure size 1440x1440 with 25 Axes>"
      ]
     },
     "metadata": {
      "needs_background": "light"
     },
     "output_type": "display_data"
    }
   ],
   "source": [
    "# Your code here\n",
    "data[collist_2].hist(figsize=(20,20));"
   ]
  },
  {
   "cell_type": "markdown",
   "metadata": {},
   "source": [
    "If you look at all the histograms, you can tell that a lot of the data are zero-inflated, so most of the variables contain mostly zeros and then some higher values here and there. No normality, but for most machine learning techniques this is not an issue. "
   ]
  },
  {
   "cell_type": "code",
   "execution_count": 7,
   "metadata": {
    "ExecuteTime": {
     "end_time": "2023-01-21T22:50:05.607616Z",
     "start_time": "2023-01-21T22:50:04.074558Z"
    }
   },
   "outputs": [
    {
     "data": {
      "image/png": "[encoded data removed]",
      "text/plain": [
       "<Figure size 1440x1440 with 1 Axes>"
      ]
     },
     "metadata": {
      "needs_background": "light"
     },
     "output_type": "display_data"
    }
   ],
   "source": [
    "# Your code here\n",
    "data.boxplot(figsize=(20,20));"
   ]
  },
  {
   "cell_type": "markdown",
   "metadata": {},
   "source": [
    "Because there are so many zeroes, most values above zero will seem to be outliers. The safe decision for this data is to not delete any outliers and see what happens. With many 0s, sparse data is available and high values may be super informative. Moreover, without having any intuitive meaning for each of the features, we don't know if a value of ~260 is actually an outlier."
   ]
  },
  {
   "cell_type": "markdown",
   "metadata": {},
   "source": [
    "## Feature engineering and selection with PCA"
   ]
  },
  {
   "cell_type": "markdown",
   "metadata": {},
   "source": [
    "Have a look at the correlation structure of your features using a [heatmap](https://seaborn.pydata.org/generated/seaborn.heatmap.html)."
   ]
  },
  {
   "cell_type": "code",
   "execution_count": 8,
   "metadata": {
    "ExecuteTime": {
     "end_time": "2023-01-21T22:50:19.188932Z",
     "start_time": "2023-01-21T22:50:18.065912Z"
    }
   },
   "outputs": [
    {
     "data": {
      "image/png": "[encoded data removed]",
      "text/plain": [
       "<Figure size 432x288 with 2 Axes>"
      ]
     },
     "metadata": {
      "needs_background": "light"
     },
     "output_type": "display_data"
    }
   ],
   "source": [
    "# Your code here\n",
    "import seaborn as sns\n",
    "X= data.drop('target', axis=1)\n",
    "y= data.target\n",
    "sns.heatmap(X.corr());"
   ]
  },
  {
   "cell_type": "markdown",
   "metadata": {},
   "source": [
    "Use PCA to select a number of features in a way that you still keep 80% of your explained variance."
   ]
  },
  {
   "cell_type": "code",
   "execution_count": 13,
   "metadata": {
    "ExecuteTime": {
     "end_time": "2023-01-21T22:52:07.669221Z",
     "start_time": "2023-01-21T22:52:07.553594Z"
    }
   },
   "outputs": [],
   "source": [
    "# Your code here\n",
    "from sklearn.decomposition import PCA\n",
    "\n",
    "pca = PCA(n_components=.8)\n",
    "principal_components = pca.fit_transform(X)"
   ]
  },
  {
   "cell_type": "code",
   "execution_count": 14,
   "metadata": {
    "ExecuteTime": {
     "end_time": "2023-01-21T22:52:12.441323Z",
     "start_time": "2023-01-21T22:52:12.425365Z"
    }
   },
   "outputs": [
    {
     "data": {
      "text/plain": [
       "27"
      ]
     },
     "execution_count": 14,
     "metadata": {},
     "output_type": "execute_result"
    }
   ],
   "source": [
    "# Your code here\n",
    "len(pca.explained_variance_ratio_)"
   ]
  },
  {
   "cell_type": "markdown",
   "metadata": {},
   "source": [
    "## Create a train-test split with a test size of 40%\n",
    "\n",
    "This is a relatively big training set, so you can assign 40% to the test set. Set the `random_state` to 42. "
   ]
  },
  {
   "cell_type": "code",
   "execution_count": 15,
   "metadata": {
    "ExecuteTime": {
     "end_time": "2023-01-21T22:52:17.676359Z",
     "start_time": "2023-01-21T22:52:17.674077Z"
    }
   },
   "outputs": [],
   "source": [
    "# Your code here\n",
    "from sklearn.model_selection import train_test_split"
   ]
  },
  {
   "cell_type": "code",
   "execution_count": 16,
   "metadata": {
    "ExecuteTime": {
     "end_time": "2023-01-21T22:52:22.162575Z",
     "start_time": "2023-01-21T22:52:22.105371Z"
    }
   },
   "outputs": [],
   "source": [
    "# Your code here\n",
    "X_train, X_test, y_train, y_test = train_test_split(X, y, random_state=42, test_size=.4)"
   ]
  },
  {
   "cell_type": "markdown",
   "metadata": {},
   "source": [
    "## Create a baseline model"
   ]
  },
  {
   "cell_type": "markdown",
   "metadata": {},
   "source": [
    "Create your baseline model *in a pipeline setting*. In the pipeline: \n",
    "\n",
    "- Your first step will be to scale your features down to the number of features that ensure you keep just 80% of your explained variance (which we saw before)\n",
    "- Your second step will be to build a basic logistic regression model \n",
    "\n",
    "Make sure to fit the model using the training set and test the result by obtaining the accuracy using the test set. Set the `random_state` to 123. "
   ]
  },
  {
   "cell_type": "code",
   "execution_count": 17,
   "metadata": {
    "ExecuteTime": {
     "end_time": "2023-01-21T22:52:29.167084Z",
     "start_time": "2023-01-21T22:52:29.153378Z"
    }
   },
   "outputs": [],
   "source": [
    "# Your code here\n",
    "from sklearn.preprocessing import StandardScaler\n",
    "from sklearn.linear_model import LogisticRegression\n",
    "from sklearn.pipeline import Pipeline\n"
   ]
  },
  {
   "cell_type": "code",
   "execution_count": 18,
   "metadata": {
    "ExecuteTime": {
     "end_time": "2023-01-21T22:52:36.774949Z",
     "start_time": "2023-01-21T22:52:36.769441Z"
    }
   },
   "outputs": [],
   "source": [
    "# Your code here\n",
    "scaler = StandardScaler()\n",
    "lr = LogisticRegression()"
   ]
  },
  {
   "cell_type": "code",
   "execution_count": 19,
   "metadata": {
    "ExecuteTime": {
     "end_time": "2023-01-21T22:52:45.053149Z",
     "start_time": "2023-01-21T22:52:43.569361Z"
    }
   },
   "outputs": [
    {
     "name": "stderr",
     "output_type": "stream",
     "text": [
      "C:\\Users\\nacnu\\anaconda3\\envs\\learn-env\\lib\\site-packages\\sklearn\\linear_model\\_logistic.py:762: ConvergenceWarning: lbfgs failed to converge (status=1):\n",
      "STOP: TOTAL NO. of ITERATIONS REACHED LIMIT.\n",
      "\n",
      "Increase the number of iterations (max_iter) or scale the data as shown in:\n",
      "    https://scikit-learn.org/stable/modules/preprocessing.html\n",
      "Please also refer to the documentation for alternative solver options:\n",
      "    https://scikit-learn.org/stable/modules/linear_model.html#logistic-regression\n",
      "  n_iter_i = _check_optimize_result(\n"
     ]
    },
    {
     "data": {
      "text/plain": [
       "0.7478991596638656"
      ]
     },
     "execution_count": 19,
     "metadata": {},
     "output_type": "execute_result"
    }
   ],
   "source": [
    "# Your code here\n",
    "steps = [('scaler', StandardScaler()),\n",
    "         ('pca', PCA(n_components=.8, random_state=123)),\n",
    "         ('lr', LogisticRegression(random_state=123))\n",
    "]\n",
    "pipe = Pipeline(steps).fit(X_train, y_train)\n",
    "pipe.score(X_test, y_test)"
   ]
  },
  {
   "cell_type": "markdown",
   "metadata": {},
   "source": [
    "## Create a pipeline consisting of a linear SVM, a simple decision tree, and a simple random forest classifier"
   ]
  },
  {
   "cell_type": "markdown",
   "metadata": {},
   "source": [
    "Repeat the above, but now create three different pipelines:\n",
    "- One for a standard linear SVM\n",
    "- One for a default decision tree\n",
    "- One for a random forest classifier"
   ]
  },
  {
   "cell_type": "code",
   "execution_count": 20,
   "metadata": {
    "ExecuteTime": {
     "end_time": "2023-01-21T22:53:41.596997Z",
     "start_time": "2023-01-21T22:52:55.801505Z"
    }
   },
   "outputs": [
    {
     "name": "stderr",
     "output_type": "stream",
     "text": [
      "C:\\Users\\nacnu\\anaconda3\\envs\\learn-env\\lib\\site-packages\\sklearn\\svm\\_base.py:976: ConvergenceWarning: Liblinear failed to converge, increase the number of iterations.\n",
      "  warnings.warn(\"Liblinear failed to converge, increase \"\n"
     ]
    },
    {
     "name": "stdout",
     "output_type": "stream",
     "text": [
      "SVC: 0.7346881060116355\n",
      "DT: 0.667784421460892\n",
      "RF: 0.780664188752424\n"
     ]
    }
   ],
   "source": [
    "# Your code here\n",
    "# ⏰ This cell may take several minutes to run\n",
    "\n",
    "from sklearn.svm import LinearSVC\n",
    "from sklearn.tree import DecisionTreeClassifier\n",
    "from sklearn.ensemble import RandomForestClassifier\n",
    "\n",
    "\n",
    "\n",
    "svc_steps = [('scaler', StandardScaler()),\n",
    "         ('pca', PCA(n_components=.8, random_state=123)),\n",
    "         ('svc', LinearSVC(random_state=123))\n",
    "]\n",
    "\n",
    "dt_steps = [('scaler', StandardScaler()),\n",
    "            ('pca', PCA(n_components=.8, random_state=123)),\n",
    "            ('dt', DecisionTreeClassifier(random_state=123))\n",
    "]\n",
    "\n",
    "rf_steps = [('scaler', StandardScaler()),\n",
    "            ('pca', PCA(n_components=.8, random_state=123)),\n",
    "            ('rf', RandomForestClassifier(random_state=123))\n",
    "]\n",
    "\n",
    "\n",
    "\n",
    "\n",
    "svc_pipe = Pipeline(svc_steps).fit(X_train, y_train)\n",
    "dt_pipe = Pipeline(dt_steps).fit(X_train, y_train)\n",
    "rf_pipe = Pipeline(rf_steps).fit(X_train, y_train)\n",
    "\n",
    "\n",
    "\n",
    "\n",
    "\n",
    "print(f\"SVC: {svc_pipe.score(X_test, y_test)}\")\n",
    "print(f\"DT: {dt_pipe.score(X_test, y_test)}\")\n",
    "print(f\"RF: {rf_pipe.score(X_test, y_test)}\")"
   ]
  },
  {
   "cell_type": "markdown",
   "metadata": {},
   "source": [
    "## Pipeline with grid search"
   ]
  },
  {
   "cell_type": "markdown",
   "metadata": {},
   "source": [
    "Construct two pipelines with grid search:\n",
    "- one for random forests - try to have around 40 different models\n",
    "- one for the AdaBoost algorithm "
   ]
  },
  {
   "cell_type": "markdown",
   "metadata": {},
   "source": [
    "### Random Forest pipeline with grid search"
   ]
  },
  {
   "cell_type": "code",
   "execution_count": 21,
   "metadata": {
    "ExecuteTime": {
     "end_time": "2023-01-21T22:54:23.307886Z",
     "start_time": "2023-01-21T22:54:23.304884Z"
    }
   },
   "outputs": [],
   "source": [
    "# Your code here \n",
    "# imports\n",
    "from sklearn.model_selection import GridSearchCV"
   ]
  },
  {
   "cell_type": "code",
   "execution_count": 36,
   "metadata": {
    "ExecuteTime": {
     "end_time": "2023-01-22T00:30:06.424288Z",
     "start_time": "2023-01-22T00:24:08.816046Z"
    },
    "scrolled": false
   },
   "outputs": [
    {
     "name": "stdout",
     "output_type": "stream",
     "text": [
      "Fitting 3 folds for each of 48 candidates, totalling 144 fits\n"
     ]
    },
    {
     "name": "stderr",
     "output_type": "stream",
     "text": [
      "[Parallel(n_jobs=8)]: Using backend LokyBackend with 8 concurrent workers.\n",
      "[Parallel(n_jobs=8)]: Done  34 tasks      | elapsed:   40.5s\n",
      "[Parallel(n_jobs=8)]: Done 144 out of 144 | elapsed:  5.0min finished\n"
     ]
    },
    {
     "data": {
      "text/plain": [
       "GridSearchCV(cv=3,\n",
       "             estimator=Pipeline(steps=[('scaler', StandardScaler()),\n",
       "                                       ('pca',\n",
       "                                        PCA(n_components=0.8,\n",
       "                                            random_state=123)),\n",
       "                                       ('rf',\n",
       "                                        RandomForestClassifier(random_state=123))]),\n",
       "             n_jobs=8,\n",
       "             param_grid={'pca__n_components': [0.8, 0.9],\n",
       "                         'rf__criterion': ['gini', 'entropy'],\n",
       "                         'rf__max_depth': [10, 25, 50],\n",
       "                         'rf__n_estimators': [25, 50, 100, 150]},\n",
       "             verbose=1)"
      ]
     },
     "execution_count": 36,
     "metadata": {},
     "output_type": "execute_result"
    }
   ],
   "source": [
    "# Your code here\n",
    "# ⏰ This cell may take a long time to run!\n",
    "rf_steps = [('scaler', StandardScaler()),\n",
    "            ('pca', PCA(n_components=.8, random_state=123)),\n",
    "            ('rf', RandomForestClassifier(random_state=123))\n",
    "]\n",
    "\n",
    "rf_pipe = Pipeline(rf_steps)\n",
    "\n",
    "params={'pca__n_components':[.8, .9],\n",
    "       'rf__n_estimators': [25, 50, 100, 150],\n",
    "        'rf__criterion': ['gini', 'entropy'],\n",
    "        'rf__max_depth': [10, 25, 50]\n",
    "       }\n",
    "\n",
    "rf_grid = GridSearchCV(rf_pipe, params, cv=3, verbose=1, n_jobs=8)\n",
    "\n",
    "rf_grid.fit(X_train, y_train)"
   ]
  },
  {
   "cell_type": "markdown",
   "metadata": {},
   "source": [
    "Use your grid search object along with `.cv_results` to get the full result overview"
   ]
  },
  {
   "cell_type": "code",
   "execution_count": 37,
   "metadata": {
    "ExecuteTime": {
     "end_time": "2023-01-22T00:30:43.760357Z",
     "start_time": "2023-01-22T00:30:43.750839Z"
    }
   },
   "outputs": [
    {
     "data": {
      "text/plain": [
       "{'pca__n_components': 0.8,\n",
       " 'rf__criterion': 'entropy',\n",
       " 'rf__max_depth': 25,\n",
       " 'rf__n_estimators': 150}"
      ]
     },
     "execution_count": 37,
     "metadata": {},
     "output_type": "execute_result"
    }
   ],
   "source": [
    "rf_grid.best_params_"
   ]
  },
  {
   "cell_type": "code",
   "execution_count": 38,
   "metadata": {
    "ExecuteTime": {
     "end_time": "2023-01-22T00:30:44.321051Z",
     "start_time": "2023-01-22T00:30:44.319050Z"
    }
   },
   "outputs": [
    {
     "data": {
      "text/plain": [
       "0.7740936623289564"
      ]
     },
     "execution_count": 38,
     "metadata": {},
     "output_type": "execute_result"
    }
   ],
   "source": [
    "rf_grid.best_score_"
   ]
  },
  {
   "cell_type": "code",
   "execution_count": 39,
   "metadata": {
    "ExecuteTime": {
     "end_time": "2023-01-22T00:30:44.960372Z",
     "start_time": "2023-01-22T00:30:44.942836Z"
    }
   },
   "outputs": [
    {
     "data": {
      "text/plain": [
       "{'mean_fit_time': array([ 2.50442068,  4.60803819,  8.68115099, 12.65870627,  3.12649345,\n",
       "         6.17042994, 12.20527943, 18.37804325,  3.1598045 ,  6.23846141,\n",
       "        12.43092195, 18.38438455,  5.266481  , 10.32963721, 20.59960278,\n",
       "        30.72409749,  6.44000896, 12.76012818, 25.3266023 , 38.02293038,\n",
       "         6.4231046 , 12.74072091, 25.47573376, 38.2397999 ,  2.52221203,\n",
       "         4.9161311 ,  9.65405901, 14.46458387,  3.59551549,  7.083565  ,\n",
       "        14.10338751, 21.08728361,  3.66042892,  7.20553549, 14.26275531,\n",
       "        21.32150499,  6.07444946, 12.04599428, 23.97201022, 35.48586742,\n",
       "         7.53040481, 14.65226833, 29.29142952, 43.91713866,  7.53610309,\n",
       "        14.78271333, 29.33051213, 42.44041737]),\n",
       " 'std_fit_time': array([0.00581248, 0.02466841, 0.13671876, 0.05290407, 0.0084515 ,\n",
       "        0.00501736, 0.06298061, 0.12902613, 0.03680526, 0.01219774,\n",
       "        0.03420843, 0.15613003, 0.0260669 , 0.05371041, 0.1778829 ,\n",
       "        0.09570935, 0.03423642, 0.02857774, 0.10663058, 0.06632192,\n",
       "        0.01522205, 0.08211854, 0.10430759, 0.10091124, 0.01063036,\n",
       "        0.0076347 , 0.02599831, 0.0441014 , 0.01657922, 0.0196456 ,\n",
       "        0.06657569, 0.08869105, 0.04574905, 0.03383072, 0.06913097,\n",
       "        0.09410702, 0.01773772, 0.02104001, 0.06198462, 0.01265453,\n",
       "        0.0796332 , 0.17467949, 0.17960774, 0.08183551, 0.0817835 ,\n",
       "        0.20998058, 0.45345082, 0.48970312]),\n",
       " 'mean_score_time': array([0.03819942, 0.06201013, 0.10219963, 0.15306346, 0.05505927,\n",
       "        0.08892067, 0.15821822, 0.23110271, 0.05323617, 0.08726819,\n",
       "        0.1687878 , 0.23573232, 0.04184747, 0.06706985, 0.10858647,\n",
       "        0.1545651 , 0.05236157, 0.08771928, 0.15652982, 0.22533019,\n",
       "        0.05021548, 0.085186  , 0.15650972, 0.22684924, 0.04105028,\n",
       "        0.05889765, 0.10408322, 0.14948392, 0.0520517 , 0.09305835,\n",
       "        0.16345954, 0.23701406, 0.05652968, 0.0914917 , 0.16315015,\n",
       "        0.24096624, 0.03920571, 0.06522799, 0.11048881, 0.15473294,\n",
       "        0.05429324, 0.0876894 , 0.16217844, 0.23847596, 0.05113117,\n",
       "        0.08765984, 0.15399607, 0.21736836]),\n",
       " 'std_score_time': array([0.000234  , 0.00398022, 0.00042555, 0.0051209 , 0.00256009,\n",
       "        0.00076902, 0.00112295, 0.00062274, 0.00022742, 0.00062018,\n",
       "        0.01028708, 0.00501343, 0.00206851, 0.00286949, 0.00109723,\n",
       "        0.00114437, 0.00330305, 0.00346383, 0.00241978, 0.00251886,\n",
       "        0.0010242 , 0.00072266, 0.0025076 , 0.00093807, 0.0008387 ,\n",
       "        0.00024178, 0.00049846, 0.00257017, 0.00040717, 0.00212249,\n",
       "        0.00233926, 0.00248079, 0.00056124, 0.00196565, 0.00411657,\n",
       "        0.00198147, 0.00062473, 0.00061735, 0.00302852, 0.00068301,\n",
       "        0.00217755, 0.0025645 , 0.00358856, 0.01279767, 0.00077199,\n",
       "        0.00172991, 0.00115807, 0.00200216]),\n",
       " 'param_pca__n_components': masked_array(data=[0.8, 0.8, 0.8, 0.8, 0.8, 0.8, 0.8, 0.8, 0.8, 0.8, 0.8,\n",
       "                    0.8, 0.8, 0.8, 0.8, 0.8, 0.8, 0.8, 0.8, 0.8, 0.8, 0.8,\n",
       "                    0.8, 0.8, 0.9, 0.9, 0.9, 0.9, 0.9, 0.9, 0.9, 0.9, 0.9,\n",
       "                    0.9, 0.9, 0.9, 0.9, 0.9, 0.9, 0.9, 0.9, 0.9, 0.9, 0.9,\n",
       "                    0.9, 0.9, 0.9, 0.9],\n",
       "              mask=[False, False, False, False, False, False, False, False,\n",
       "                    False, False, False, False, False, False, False, False,\n",
       "                    False, False, False, False, False, False, False, False,\n",
       "                    False, False, False, False, False, False, False, False,\n",
       "                    False, False, False, False, False, False, False, False,\n",
       "                    False, False, False, False, False, False, False, False],\n",
       "        fill_value='?',\n",
       "             dtype=object),\n",
       " 'param_rf__criterion': masked_array(data=['gini', 'gini', 'gini', 'gini', 'gini', 'gini', 'gini',\n",
       "                    'gini', 'gini', 'gini', 'gini', 'gini', 'entropy',\n",
       "                    'entropy', 'entropy', 'entropy', 'entropy', 'entropy',\n",
       "                    'entropy', 'entropy', 'entropy', 'entropy', 'entropy',\n",
       "                    'entropy', 'gini', 'gini', 'gini', 'gini', 'gini',\n",
       "                    'gini', 'gini', 'gini', 'gini', 'gini', 'gini', 'gini',\n",
       "                    'entropy', 'entropy', 'entropy', 'entropy', 'entropy',\n",
       "                    'entropy', 'entropy', 'entropy', 'entropy', 'entropy',\n",
       "                    'entropy', 'entropy'],\n",
       "              mask=[False, False, False, False, False, False, False, False,\n",
       "                    False, False, False, False, False, False, False, False,\n",
       "                    False, False, False, False, False, False, False, False,\n",
       "                    False, False, False, False, False, False, False, False,\n",
       "                    False, False, False, False, False, False, False, False,\n",
       "                    False, False, False, False, False, False, False, False],\n",
       "        fill_value='?',\n",
       "             dtype=object),\n",
       " 'param_rf__max_depth': masked_array(data=[10, 10, 10, 10, 25, 25, 25, 25, 50, 50, 50, 50, 10, 10,\n",
       "                    10, 10, 25, 25, 25, 25, 50, 50, 50, 50, 10, 10, 10, 10,\n",
       "                    25, 25, 25, 25, 50, 50, 50, 50, 10, 10, 10, 10, 25, 25,\n",
       "                    25, 25, 50, 50, 50, 50],\n",
       "              mask=[False, False, False, False, False, False, False, False,\n",
       "                    False, False, False, False, False, False, False, False,\n",
       "                    False, False, False, False, False, False, False, False,\n",
       "                    False, False, False, False, False, False, False, False,\n",
       "                    False, False, False, False, False, False, False, False,\n",
       "                    False, False, False, False, False, False, False, False],\n",
       "        fill_value='?',\n",
       "             dtype=object),\n",
       " 'param_rf__n_estimators': masked_array(data=[25, 50, 100, 150, 25, 50, 100, 150, 25, 50, 100, 150,\n",
       "                    25, 50, 100, 150, 25, 50, 100, 150, 25, 50, 100, 150,\n",
       "                    25, 50, 100, 150, 25, 50, 100, 150, 25, 50, 100, 150,\n",
       "                    25, 50, 100, 150, 25, 50, 100, 150, 25, 50, 100, 150],\n",
       "              mask=[False, False, False, False, False, False, False, False,\n",
       "                    False, False, False, False, False, False, False, False,\n",
       "                    False, False, False, False, False, False, False, False,\n",
       "                    False, False, False, False, False, False, False, False,\n",
       "                    False, False, False, False, False, False, False, False,\n",
       "                    False, False, False, False, False, False, False, False],\n",
       "        fill_value='?',\n",
       "             dtype=object),\n",
       " 'params': [{'pca__n_components': 0.8,\n",
       "   'rf__criterion': 'gini',\n",
       "   'rf__max_depth': 10,\n",
       "   'rf__n_estimators': 25},\n",
       "  {'pca__n_components': 0.8,\n",
       "   'rf__criterion': 'gini',\n",
       "   'rf__max_depth': 10,\n",
       "   'rf__n_estimators': 50},\n",
       "  {'pca__n_components': 0.8,\n",
       "   'rf__criterion': 'gini',\n",
       "   'rf__max_depth': 10,\n",
       "   'rf__n_estimators': 100},\n",
       "  {'pca__n_components': 0.8,\n",
       "   'rf__criterion': 'gini',\n",
       "   'rf__max_depth': 10,\n",
       "   'rf__n_estimators': 150},\n",
       "  {'pca__n_components': 0.8,\n",
       "   'rf__criterion': 'gini',\n",
       "   'rf__max_depth': 25,\n",
       "   'rf__n_estimators': 25},\n",
       "  {'pca__n_components': 0.8,\n",
       "   'rf__criterion': 'gini',\n",
       "   'rf__max_depth': 25,\n",
       "   'rf__n_estimators': 50},\n",
       "  {'pca__n_components': 0.8,\n",
       "   'rf__criterion': 'gini',\n",
       "   'rf__max_depth': 25,\n",
       "   'rf__n_estimators': 100},\n",
       "  {'pca__n_components': 0.8,\n",
       "   'rf__criterion': 'gini',\n",
       "   'rf__max_depth': 25,\n",
       "   'rf__n_estimators': 150},\n",
       "  {'pca__n_components': 0.8,\n",
       "   'rf__criterion': 'gini',\n",
       "   'rf__max_depth': 50,\n",
       "   'rf__n_estimators': 25},\n",
       "  {'pca__n_components': 0.8,\n",
       "   'rf__criterion': 'gini',\n",
       "   'rf__max_depth': 50,\n",
       "   'rf__n_estimators': 50},\n",
       "  {'pca__n_components': 0.8,\n",
       "   'rf__criterion': 'gini',\n",
       "   'rf__max_depth': 50,\n",
       "   'rf__n_estimators': 100},\n",
       "  {'pca__n_components': 0.8,\n",
       "   'rf__criterion': 'gini',\n",
       "   'rf__max_depth': 50,\n",
       "   'rf__n_estimators': 150},\n",
       "  {'pca__n_components': 0.8,\n",
       "   'rf__criterion': 'entropy',\n",
       "   'rf__max_depth': 10,\n",
       "   'rf__n_estimators': 25},\n",
       "  {'pca__n_components': 0.8,\n",
       "   'rf__criterion': 'entropy',\n",
       "   'rf__max_depth': 10,\n",
       "   'rf__n_estimators': 50},\n",
       "  {'pca__n_components': 0.8,\n",
       "   'rf__criterion': 'entropy',\n",
       "   'rf__max_depth': 10,\n",
       "   'rf__n_estimators': 100},\n",
       "  {'pca__n_components': 0.8,\n",
       "   'rf__criterion': 'entropy',\n",
       "   'rf__max_depth': 10,\n",
       "   'rf__n_estimators': 150},\n",
       "  {'pca__n_components': 0.8,\n",
       "   'rf__criterion': 'entropy',\n",
       "   'rf__max_depth': 25,\n",
       "   'rf__n_estimators': 25},\n",
       "  {'pca__n_components': 0.8,\n",
       "   'rf__criterion': 'entropy',\n",
       "   'rf__max_depth': 25,\n",
       "   'rf__n_estimators': 50},\n",
       "  {'pca__n_components': 0.8,\n",
       "   'rf__criterion': 'entropy',\n",
       "   'rf__max_depth': 25,\n",
       "   'rf__n_estimators': 100},\n",
       "  {'pca__n_components': 0.8,\n",
       "   'rf__criterion': 'entropy',\n",
       "   'rf__max_depth': 25,\n",
       "   'rf__n_estimators': 150},\n",
       "  {'pca__n_components': 0.8,\n",
       "   'rf__criterion': 'entropy',\n",
       "   'rf__max_depth': 50,\n",
       "   'rf__n_estimators': 25},\n",
       "  {'pca__n_components': 0.8,\n",
       "   'rf__criterion': 'entropy',\n",
       "   'rf__max_depth': 50,\n",
       "   'rf__n_estimators': 50},\n",
       "  {'pca__n_components': 0.8,\n",
       "   'rf__criterion': 'entropy',\n",
       "   'rf__max_depth': 50,\n",
       "   'rf__n_estimators': 100},\n",
       "  {'pca__n_components': 0.8,\n",
       "   'rf__criterion': 'entropy',\n",
       "   'rf__max_depth': 50,\n",
       "   'rf__n_estimators': 150},\n",
       "  {'pca__n_components': 0.9,\n",
       "   'rf__criterion': 'gini',\n",
       "   'rf__max_depth': 10,\n",
       "   'rf__n_estimators': 25},\n",
       "  {'pca__n_components': 0.9,\n",
       "   'rf__criterion': 'gini',\n",
       "   'rf__max_depth': 10,\n",
       "   'rf__n_estimators': 50},\n",
       "  {'pca__n_components': 0.9,\n",
       "   'rf__criterion': 'gini',\n",
       "   'rf__max_depth': 10,\n",
       "   'rf__n_estimators': 100},\n",
       "  {'pca__n_components': 0.9,\n",
       "   'rf__criterion': 'gini',\n",
       "   'rf__max_depth': 10,\n",
       "   'rf__n_estimators': 150},\n",
       "  {'pca__n_components': 0.9,\n",
       "   'rf__criterion': 'gini',\n",
       "   'rf__max_depth': 25,\n",
       "   'rf__n_estimators': 25},\n",
       "  {'pca__n_components': 0.9,\n",
       "   'rf__criterion': 'gini',\n",
       "   'rf__max_depth': 25,\n",
       "   'rf__n_estimators': 50},\n",
       "  {'pca__n_components': 0.9,\n",
       "   'rf__criterion': 'gini',\n",
       "   'rf__max_depth': 25,\n",
       "   'rf__n_estimators': 100},\n",
       "  {'pca__n_components': 0.9,\n",
       "   'rf__criterion': 'gini',\n",
       "   'rf__max_depth': 25,\n",
       "   'rf__n_estimators': 150},\n",
       "  {'pca__n_components': 0.9,\n",
       "   'rf__criterion': 'gini',\n",
       "   'rf__max_depth': 50,\n",
       "   'rf__n_estimators': 25},\n",
       "  {'pca__n_components': 0.9,\n",
       "   'rf__criterion': 'gini',\n",
       "   'rf__max_depth': 50,\n",
       "   'rf__n_estimators': 50},\n",
       "  {'pca__n_components': 0.9,\n",
       "   'rf__criterion': 'gini',\n",
       "   'rf__max_depth': 50,\n",
       "   'rf__n_estimators': 100},\n",
       "  {'pca__n_components': 0.9,\n",
       "   'rf__criterion': 'gini',\n",
       "   'rf__max_depth': 50,\n",
       "   'rf__n_estimators': 150},\n",
       "  {'pca__n_components': 0.9,\n",
       "   'rf__criterion': 'entropy',\n",
       "   'rf__max_depth': 10,\n",
       "   'rf__n_estimators': 25},\n",
       "  {'pca__n_components': 0.9,\n",
       "   'rf__criterion': 'entropy',\n",
       "   'rf__max_depth': 10,\n",
       "   'rf__n_estimators': 50},\n",
       "  {'pca__n_components': 0.9,\n",
       "   'rf__criterion': 'entropy',\n",
       "   'rf__max_depth': 10,\n",
       "   'rf__n_estimators': 100},\n",
       "  {'pca__n_components': 0.9,\n",
       "   'rf__criterion': 'entropy',\n",
       "   'rf__max_depth': 10,\n",
       "   'rf__n_estimators': 150},\n",
       "  {'pca__n_components': 0.9,\n",
       "   'rf__criterion': 'entropy',\n",
       "   'rf__max_depth': 25,\n",
       "   'rf__n_estimators': 25},\n",
       "  {'pca__n_components': 0.9,\n",
       "   'rf__criterion': 'entropy',\n",
       "   'rf__max_depth': 25,\n",
       "   'rf__n_estimators': 50},\n",
       "  {'pca__n_components': 0.9,\n",
       "   'rf__criterion': 'entropy',\n",
       "   'rf__max_depth': 25,\n",
       "   'rf__n_estimators': 100},\n",
       "  {'pca__n_components': 0.9,\n",
       "   'rf__criterion': 'entropy',\n",
       "   'rf__max_depth': 25,\n",
       "   'rf__n_estimators': 150},\n",
       "  {'pca__n_components': 0.9,\n",
       "   'rf__criterion': 'entropy',\n",
       "   'rf__max_depth': 50,\n",
       "   'rf__n_estimators': 25},\n",
       "  {'pca__n_components': 0.9,\n",
       "   'rf__criterion': 'entropy',\n",
       "   'rf__max_depth': 50,\n",
       "   'rf__n_estimators': 50},\n",
       "  {'pca__n_components': 0.9,\n",
       "   'rf__criterion': 'entropy',\n",
       "   'rf__max_depth': 50,\n",
       "   'rf__n_estimators': 100},\n",
       "  {'pca__n_components': 0.9,\n",
       "   'rf__criterion': 'entropy',\n",
       "   'rf__max_depth': 50,\n",
       "   'rf__n_estimators': 150}],\n",
       " 'split0_test_score': array([0.73343568, 0.7343245 , 0.73658694, 0.73529412, 0.76090821,\n",
       "        0.76737233, 0.77036199, 0.77205882, 0.76074661, 0.76624111,\n",
       "        0.76955398, 0.76753394, 0.73820297, 0.74070782, 0.74256626,\n",
       "        0.74288946, 0.75880737, 0.76486749, 0.77020039, 0.77278604,\n",
       "        0.75799935, 0.76486749, 0.76963478, 0.770766  , 0.72996122,\n",
       "        0.7344053 , 0.73400129, 0.73561732, 0.75832256, 0.76365546,\n",
       "        0.76850356, 0.77036199, 0.760181  , 0.76389787, 0.77205882,\n",
       "        0.77189722, 0.73715255, 0.74062702, 0.74167744, 0.74232385,\n",
       "        0.76333226, 0.76793794, 0.77052359, 0.76890756, 0.75993859,\n",
       "        0.76454428, 0.76745314, 0.76906917]),\n",
       " 'split1_test_score': array([0.73818182, 0.73907071, 0.73939394, 0.73987879, 0.75943434,\n",
       "        0.76864646, 0.77131313, 0.77050505, 0.75919192, 0.76929293,\n",
       "        0.77139394, 0.77147475, 0.73915152, 0.7419798 , 0.74448485,\n",
       "        0.7449697 , 0.76185859, 0.76646465, 0.77163636, 0.77187879,\n",
       "        0.76024242, 0.76686869, 0.77187879, 0.77284848, 0.73406061,\n",
       "        0.73753535, 0.73915152, 0.74044444, 0.76024242, 0.76606061,\n",
       "        0.76945455, 0.76969697, 0.75523232, 0.76379798, 0.76961616,\n",
       "        0.77018182, 0.73971717, 0.74270707, 0.74286869, 0.74335354,\n",
       "        0.76379798, 0.77123232, 0.77179798, 0.77115152, 0.76072727,\n",
       "        0.76961616, 0.77026263, 0.77349495]),\n",
       " 'split2_test_score': array([0.73737374, 0.74076768, 0.74222222, 0.7419798 , 0.76517172,\n",
       "        0.77042424, 0.77486869, 0.77713131, 0.7629899 , 0.76977778,\n",
       "        0.77414141, 0.77680808, 0.74383838, 0.74440404, 0.74658586,\n",
       "        0.74828283, 0.76476768, 0.77292929, 0.7750303 , 0.77761616,\n",
       "        0.76678788, 0.77123232, 0.77373737, 0.77737374, 0.7319596 ,\n",
       "        0.73688889, 0.73834343, 0.73923232, 0.76234343, 0.76913131,\n",
       "        0.77284848, 0.77325253, 0.76226263, 0.76816162, 0.77333333,\n",
       "        0.77567677, 0.74068687, 0.74488889, 0.74779798, 0.74723232,\n",
       "        0.76606061, 0.77171717, 0.77527273, 0.77672727, 0.76662626,\n",
       "        0.77422222, 0.77583838, 0.776     ]),\n",
       " 'mean_test_score': array([0.73633041, 0.73805429, 0.73940103, 0.7390509 , 0.76183809,\n",
       "        0.76881435, 0.77218127, 0.77323173, 0.76097614, 0.76843727,\n",
       "        0.77169644, 0.77193892, 0.74039762, 0.74236389, 0.74454565,\n",
       "        0.74538066, 0.76181121, 0.76808714, 0.77228902, 0.77409366,\n",
       "        0.76167655, 0.76765617, 0.77175031, 0.77366274, 0.73199381,\n",
       "        0.73627651, 0.73716541, 0.73843136, 0.76030281, 0.76628246,\n",
       "        0.77026886, 0.77110383, 0.75922531, 0.76528582, 0.77166944,\n",
       "        0.77258527, 0.73918553, 0.74274099, 0.7441147 , 0.74430324,\n",
       "        0.76439695, 0.77029581, 0.77253143, 0.77226212, 0.76243071,\n",
       "        0.76946089, 0.77118472, 0.77285471]),\n",
       " 'std_test_score': array([0.0020733 , 0.00272684, 0.0023006 , 0.00279149, 0.00243281,\n",
       "        0.00125158, 0.00193956, 0.00282944, 0.00155899, 0.00156548,\n",
       "        0.00188499, 0.00380035, 0.00246361, 0.00153322, 0.00164156,\n",
       "        0.00222093, 0.00243352, 0.00348545, 0.00202509, 0.00251817,\n",
       "        0.00372846, 0.00265743, 0.00167734, 0.00275836, 0.00167374,\n",
       "        0.00134921, 0.00226156, 0.00205043, 0.00164207, 0.002241  ,\n",
       "        0.00186493, 0.00154342, 0.00294859, 0.0020339 , 0.0015423 ,\n",
       "        0.00229546, 0.00149105, 0.00174007, 0.00264949, 0.0021134 ,\n",
       "        0.00119165, 0.00167897, 0.00200699, 0.00328756, 0.00298413,\n",
       "        0.00395253, 0.0034848 , 0.00286549]),\n",
       " 'rank_test_score': array([46, 44, 40, 42, 27, 19,  9,  3, 30, 20, 12, 10, 39, 38, 34, 33, 28,\n",
       "        21,  7,  1, 29, 22, 11,  2, 48, 47, 45, 43, 31, 23, 17, 15, 32, 24,\n",
       "        13,  5, 41, 37, 36, 35, 25, 16,  6,  8, 26, 18, 14,  4])}"
      ]
     },
     "execution_count": 39,
     "metadata": {},
     "output_type": "execute_result"
    }
   ],
   "source": [
    "# Your code here \n",
    "rf_grid.cv_results_"
   ]
  },
  {
   "cell_type": "markdown",
   "metadata": {},
   "source": [
    "### AdaBoost"
   ]
  },
  {
   "cell_type": "code",
   "execution_count": 41,
   "metadata": {
    "ExecuteTime": {
     "end_time": "2023-01-22T00:31:49.727967Z",
     "start_time": "2023-01-22T00:31:49.726967Z"
    }
   },
   "outputs": [],
   "source": [
    "# Your code here\n",
    "# ⏰ This cell may take several minutes to run\n",
    "from sklearn.ensemble import AdaBoostClassifier"
   ]
  },
  {
   "cell_type": "code",
   "execution_count": 44,
   "metadata": {
    "ExecuteTime": {
     "end_time": "2023-01-22T00:42:46.451111Z",
     "start_time": "2023-01-22T00:37:44.710741Z"
    },
    "scrolled": false
   },
   "outputs": [
    {
     "name": "stdout",
     "output_type": "stream",
     "text": [
      "Fitting 3 folds for each of 72 candidates, totalling 216 fits\n"
     ]
    },
    {
     "name": "stderr",
     "output_type": "stream",
     "text": [
      "[Parallel(n_jobs=6)]: Using backend LokyBackend with 6 concurrent workers.\n",
      "[Parallel(n_jobs=6)]: Done  38 tasks      | elapsed:   46.8s\n",
      "[Parallel(n_jobs=6)]: Done 188 tasks      | elapsed:  4.1min\n",
      "[Parallel(n_jobs=6)]: Done 216 out of 216 | elapsed:  4.8min finished\n"
     ]
    },
    {
     "data": {
      "text/plain": [
       "GridSearchCV(cv=3,\n",
       "             estimator=Pipeline(steps=[('scaler', StandardScaler()),\n",
       "                                       ('pca',\n",
       "                                        PCA(n_components=0.8,\n",
       "                                            random_state=123)),\n",
       "                                       ('ada',\n",
       "                                        AdaBoostClassifier(random_state=123))]),\n",
       "             n_jobs=6,\n",
       "             param_grid={'ada__algorithm': ['SAMME', 'SAMME.R'],\n",
       "                         'ada__learning_rate': [0.5, 0.75, 1, 1.5],\n",
       "                         'ada__n_estimators': [25, 50, 100],\n",
       "                         'pca__n_components': [0.75, 0.8, 0.85]},\n",
       "             verbose=1)"
      ]
     },
     "execution_count": 44,
     "metadata": {},
     "output_type": "execute_result"
    }
   ],
   "source": [
    "ada_steps = [('scaler', StandardScaler()),\n",
    "            ('pca', PCA(n_components=.8, random_state=123)),\n",
    "            ('ada', AdaBoostClassifier(random_state=123))\n",
    "]\n",
    "\n",
    "ada_pipe = Pipeline(ada_steps)\n",
    "\n",
    "params={'pca__n_components':[.75, .8, .85],\n",
    "       'ada__n_estimators': [25, 50, 100],\n",
    "        'ada__learning_rate': [.5, .75, 1, 1.5],\n",
    "        'ada__algorithm': ['SAMME', 'SAMME.R']\n",
    "       }\n",
    "\n",
    "ada_grid = GridSearchCV(ada_pipe, params, cv=3, verbose=1, n_jobs=6)\n",
    "\n",
    "ada_grid.fit(X_train, y_train)"
   ]
  },
  {
   "cell_type": "markdown",
   "metadata": {},
   "source": [
    "Use your grid search object along with `.cv_results` to get the full result overview: "
   ]
  },
  {
   "cell_type": "code",
   "execution_count": 45,
   "metadata": {
    "ExecuteTime": {
     "end_time": "2023-01-22T00:44:36.771069Z",
     "start_time": "2023-01-22T00:44:36.762223Z"
    }
   },
   "outputs": [
    {
     "data": {
      "text/plain": [
       "{'ada__algorithm': 'SAMME.R',\n",
       " 'ada__learning_rate': 0.5,\n",
       " 'ada__n_estimators': 50,\n",
       " 'pca__n_components': 0.85}"
      ]
     },
     "execution_count": 45,
     "metadata": {},
     "output_type": "execute_result"
    }
   ],
   "source": [
    "ada_grid.best_params_"
   ]
  },
  {
   "cell_type": "code",
   "execution_count": 46,
   "metadata": {
    "ExecuteTime": {
     "end_time": "2023-01-22T00:44:37.501638Z",
     "start_time": "2023-01-22T00:44:37.490122Z"
    }
   },
   "outputs": [
    {
     "data": {
      "text/plain": [
       "0.679954683660566"
      ]
     },
     "execution_count": 46,
     "metadata": {},
     "output_type": "execute_result"
    }
   ],
   "source": [
    "ada_grid.best_score_"
   ]
  },
  {
   "cell_type": "code",
   "execution_count": 47,
   "metadata": {
    "ExecuteTime": {
     "end_time": "2023-01-22T00:44:38.544969Z",
     "start_time": "2023-01-22T00:44:38.530462Z"
    }
   },
   "outputs": [
    {
     "data": {
      "text/plain": [
       "{'mean_fit_time': array([ 3.05949116,  3.49204   ,  3.74115547,  5.64999533,  6.45193688,\n",
       "         7.29381061, 11.2191503 , 12.78169751, 14.55465921,  2.86401534,\n",
       "         3.27370779,  3.70426146,  5.69693176,  6.49367817,  7.27487334,\n",
       "        11.21021398, 12.73861543, 14.47661662,  2.86808165,  3.25605718,\n",
       "         3.70131373,  5.68742879,  6.53103383,  7.41401418, 11.26427094,\n",
       "        12.85237273, 14.6733462 ,  2.94038852,  3.3054413 ,  3.76589918,\n",
       "         5.76827582,  6.5710334 ,  7.37590845, 11.20729987, 12.83195273,\n",
       "        14.5162909 ,  3.03730702,  3.40300179,  3.90412116,  6.04681651,\n",
       "         6.76620468,  7.63965066, 11.83370932, 13.45926571, 15.1901923 ,\n",
       "         3.05092645,  3.44005783,  3.90328972,  5.97997125,  6.74848032,\n",
       "         7.62734985, 11.82705903, 13.40057731, 15.12467957,  3.02306374,\n",
       "         3.4297355 ,  3.86492348,  5.93511383,  6.74797408,  7.59687114,\n",
       "        11.79547095, 13.4060603 , 15.13849489,  3.01801538,  3.42136502,\n",
       "         3.85701712,  5.99454586,  6.79580601,  7.6097277 , 11.84413536,\n",
       "        13.32593083, 14.90912318]),\n",
       " 'std_fit_time': array([0.01770025, 0.03051681, 0.03563588, 0.01049687, 0.00718759,\n",
       "        0.06361755, 0.05314306, 0.00977082, 0.14269119, 0.01115013,\n",
       "        0.01099172, 0.02520838, 0.04596898, 0.03266966, 0.044081  ,\n",
       "        0.01701215, 0.02374911, 0.08214053, 0.02060361, 0.01031613,\n",
       "        0.03204532, 0.01150884, 0.05336806, 0.04857979, 0.06016782,\n",
       "        0.02908723, 0.08191615, 0.03710857, 0.01128807, 0.01638109,\n",
       "        0.02975794, 0.02807221, 0.05338576, 0.01125557, 0.02418359,\n",
       "        0.10547877, 0.0166728 , 0.02160897, 0.02900961, 0.05543079,\n",
       "        0.02068939, 0.05713331, 0.01517259, 0.0138853 , 0.0886295 ,\n",
       "        0.00131327, 0.03243906, 0.01587073, 0.01721533, 0.00659867,\n",
       "        0.05066518, 0.00645975, 0.02150785, 0.0805954 , 0.01083684,\n",
       "        0.01015299, 0.03362021, 0.01259807, 0.03089736, 0.06656727,\n",
       "        0.02100682, 0.00716797, 0.13078697, 0.01487594, 0.0083678 ,\n",
       "        0.04441428, 0.01242333, 0.01068038, 0.04143816, 0.02946148,\n",
       "        0.01278221, 0.12764368]),\n",
       " 'mean_score_time': array([0.07941159, 0.08003728, 0.0799071 , 0.14149896, 0.15391397,\n",
       "        0.14413746, 0.26660752, 0.25702302, 0.29596337, 0.07474462,\n",
       "        0.07942057, 0.08592987, 0.13167008, 0.14287265, 0.14638575,\n",
       "        0.25798766, 0.25938106, 0.28075035, 0.07244062, 0.0754029 ,\n",
       "        0.0777514 , 0.13805437, 0.14346623, 0.14687975, 0.24981062,\n",
       "        0.33227277, 0.27849571, 0.07490079, 0.07921362, 0.08257635,\n",
       "        0.13272476, 0.14179444, 0.14714162, 0.26687702, 0.25504923,\n",
       "        0.30343509, 0.07815146, 0.08169794, 0.08401775, 0.14461414,\n",
       "        0.14894025, 0.15667907, 0.27115838, 0.27941497, 0.29306539,\n",
       "        0.07586551, 0.07939219, 0.09011364, 0.13416934, 0.14712262,\n",
       "        0.14379692, 0.2618386 , 0.26570495, 0.28172962, 0.0714043 ,\n",
       "        0.0764064 , 0.07624229, 0.12079899, 0.13726624, 0.12887597,\n",
       "        0.22864588, 0.23905039, 0.24330688, 0.06678414, 0.07012169,\n",
       "        0.07742643, 0.12511794, 0.1273814 , 0.13135608, 0.22777319,\n",
       "        0.24084322, 0.22820075]),\n",
       " 'std_score_time': array([0.00572115, 0.00451243, 0.00371534, 0.0086739 , 0.01304699,\n",
       "        0.00737018, 0.0110784 , 0.0216319 , 0.0139007 , 0.00597391,\n",
       "        0.01050986, 0.00837109, 0.01086159, 0.00749484, 0.00975781,\n",
       "        0.01447024, 0.01103287, 0.01034932, 0.00193303, 0.00771942,\n",
       "        0.00380406, 0.00367802, 0.01024185, 0.01067657, 0.00818087,\n",
       "        0.06509988, 0.01852203, 0.00272482, 0.00937438, 0.00442247,\n",
       "        0.00514524, 0.01201915, 0.01225531, 0.02143981, 0.0117623 ,\n",
       "        0.01836227, 0.00561948, 0.0058917 , 0.00595829, 0.00602012,\n",
       "        0.00483717, 0.00328164, 0.01807967, 0.01078671, 0.01547368,\n",
       "        0.00190189, 0.00718113, 0.01390079, 0.00676642, 0.01690608,\n",
       "        0.00852872, 0.0046731 , 0.00850312, 0.02565534, 0.00169682,\n",
       "        0.00821953, 0.00882075, 0.00410314, 0.00485454, 0.00141041,\n",
       "        0.00621059, 0.00639673, 0.00810293, 0.00349734, 0.00179109,\n",
       "        0.00686719, 0.00296263, 0.00663557, 0.00453708, 0.0099342 ,\n",
       "        0.00596063, 0.00567329]),\n",
       " 'param_ada__algorithm': masked_array(data=['SAMME', 'SAMME', 'SAMME', 'SAMME', 'SAMME', 'SAMME',\n",
       "                    'SAMME', 'SAMME', 'SAMME', 'SAMME', 'SAMME', 'SAMME',\n",
       "                    'SAMME', 'SAMME', 'SAMME', 'SAMME', 'SAMME', 'SAMME',\n",
       "                    'SAMME', 'SAMME', 'SAMME', 'SAMME', 'SAMME', 'SAMME',\n",
       "                    'SAMME', 'SAMME', 'SAMME', 'SAMME', 'SAMME', 'SAMME',\n",
       "                    'SAMME', 'SAMME', 'SAMME', 'SAMME', 'SAMME', 'SAMME',\n",
       "                    'SAMME.R', 'SAMME.R', 'SAMME.R', 'SAMME.R', 'SAMME.R',\n",
       "                    'SAMME.R', 'SAMME.R', 'SAMME.R', 'SAMME.R', 'SAMME.R',\n",
       "                    'SAMME.R', 'SAMME.R', 'SAMME.R', 'SAMME.R', 'SAMME.R',\n",
       "                    'SAMME.R', 'SAMME.R', 'SAMME.R', 'SAMME.R', 'SAMME.R',\n",
       "                    'SAMME.R', 'SAMME.R', 'SAMME.R', 'SAMME.R', 'SAMME.R',\n",
       "                    'SAMME.R', 'SAMME.R', 'SAMME.R', 'SAMME.R', 'SAMME.R',\n",
       "                    'SAMME.R', 'SAMME.R', 'SAMME.R', 'SAMME.R', 'SAMME.R',\n",
       "                    'SAMME.R'],\n",
       "              mask=[False, False, False, False, False, False, False, False,\n",
       "                    False, False, False, False, False, False, False, False,\n",
       "                    False, False, False, False, False, False, False, False,\n",
       "                    False, False, False, False, False, False, False, False,\n",
       "                    False, False, False, False, False, False, False, False,\n",
       "                    False, False, False, False, False, False, False, False,\n",
       "                    False, False, False, False, False, False, False, False,\n",
       "                    False, False, False, False, False, False, False, False,\n",
       "                    False, False, False, False, False, False, False, False],\n",
       "        fill_value='?',\n",
       "             dtype=object),\n",
       " 'param_ada__learning_rate': masked_array(data=[0.5, 0.5, 0.5, 0.5, 0.5, 0.5, 0.5, 0.5, 0.5, 0.75,\n",
       "                    0.75, 0.75, 0.75, 0.75, 0.75, 0.75, 0.75, 0.75, 1, 1,\n",
       "                    1, 1, 1, 1, 1, 1, 1, 1.5, 1.5, 1.5, 1.5, 1.5, 1.5, 1.5,\n",
       "                    1.5, 1.5, 0.5, 0.5, 0.5, 0.5, 0.5, 0.5, 0.5, 0.5, 0.5,\n",
       "                    0.75, 0.75, 0.75, 0.75, 0.75, 0.75, 0.75, 0.75, 0.75,\n",
       "                    1, 1, 1, 1, 1, 1, 1, 1, 1, 1.5, 1.5, 1.5, 1.5, 1.5,\n",
       "                    1.5, 1.5, 1.5, 1.5],\n",
       "              mask=[False, False, False, False, False, False, False, False,\n",
       "                    False, False, False, False, False, False, False, False,\n",
       "                    False, False, False, False, False, False, False, False,\n",
       "                    False, False, False, False, False, False, False, False,\n",
       "                    False, False, False, False, False, False, False, False,\n",
       "                    False, False, False, False, False, False, False, False,\n",
       "                    False, False, False, False, False, False, False, False,\n",
       "                    False, False, False, False, False, False, False, False,\n",
       "                    False, False, False, False, False, False, False, False],\n",
       "        fill_value='?',\n",
       "             dtype=object),\n",
       " 'param_ada__n_estimators': masked_array(data=[25, 25, 25, 50, 50, 50, 100, 100, 100, 25, 25, 25, 50,\n",
       "                    50, 50, 100, 100, 100, 25, 25, 25, 50, 50, 50, 100,\n",
       "                    100, 100, 25, 25, 25, 50, 50, 50, 100, 100, 100, 25,\n",
       "                    25, 25, 50, 50, 50, 100, 100, 100, 25, 25, 25, 50, 50,\n",
       "                    50, 100, 100, 100, 25, 25, 25, 50, 50, 50, 100, 100,\n",
       "                    100, 25, 25, 25, 50, 50, 50, 100, 100, 100],\n",
       "              mask=[False, False, False, False, False, False, False, False,\n",
       "                    False, False, False, False, False, False, False, False,\n",
       "                    False, False, False, False, False, False, False, False,\n",
       "                    False, False, False, False, False, False, False, False,\n",
       "                    False, False, False, False, False, False, False, False,\n",
       "                    False, False, False, False, False, False, False, False,\n",
       "                    False, False, False, False, False, False, False, False,\n",
       "                    False, False, False, False, False, False, False, False,\n",
       "                    False, False, False, False, False, False, False, False],\n",
       "        fill_value='?',\n",
       "             dtype=object),\n",
       " 'param_pca__n_components': masked_array(data=[0.75, 0.8, 0.85, 0.75, 0.8, 0.85, 0.75, 0.8, 0.85,\n",
       "                    0.75, 0.8, 0.85, 0.75, 0.8, 0.85, 0.75, 0.8, 0.85,\n",
       "                    0.75, 0.8, 0.85, 0.75, 0.8, 0.85, 0.75, 0.8, 0.85,\n",
       "                    0.75, 0.8, 0.85, 0.75, 0.8, 0.85, 0.75, 0.8, 0.85,\n",
       "                    0.75, 0.8, 0.85, 0.75, 0.8, 0.85, 0.75, 0.8, 0.85,\n",
       "                    0.75, 0.8, 0.85, 0.75, 0.8, 0.85, 0.75, 0.8, 0.85,\n",
       "                    0.75, 0.8, 0.85, 0.75, 0.8, 0.85, 0.75, 0.8, 0.85,\n",
       "                    0.75, 0.8, 0.85, 0.75, 0.8, 0.85, 0.75, 0.8, 0.85],\n",
       "              mask=[False, False, False, False, False, False, False, False,\n",
       "                    False, False, False, False, False, False, False, False,\n",
       "                    False, False, False, False, False, False, False, False,\n",
       "                    False, False, False, False, False, False, False, False,\n",
       "                    False, False, False, False, False, False, False, False,\n",
       "                    False, False, False, False, False, False, False, False,\n",
       "                    False, False, False, False, False, False, False, False,\n",
       "                    False, False, False, False, False, False, False, False,\n",
       "                    False, False, False, False, False, False, False, False],\n",
       "        fill_value='?',\n",
       "             dtype=object),\n",
       " 'params': [{'ada__algorithm': 'SAMME',\n",
       "   'ada__learning_rate': 0.5,\n",
       "   'ada__n_estimators': 25,\n",
       "   'pca__n_components': 0.75},\n",
       "  {'ada__algorithm': 'SAMME',\n",
       "   'ada__learning_rate': 0.5,\n",
       "   'ada__n_estimators': 25,\n",
       "   'pca__n_components': 0.8},\n",
       "  {'ada__algorithm': 'SAMME',\n",
       "   'ada__learning_rate': 0.5,\n",
       "   'ada__n_estimators': 25,\n",
       "   'pca__n_components': 0.85},\n",
       "  {'ada__algorithm': 'SAMME',\n",
       "   'ada__learning_rate': 0.5,\n",
       "   'ada__n_estimators': 50,\n",
       "   'pca__n_components': 0.75},\n",
       "  {'ada__algorithm': 'SAMME',\n",
       "   'ada__learning_rate': 0.5,\n",
       "   'ada__n_estimators': 50,\n",
       "   'pca__n_components': 0.8},\n",
       "  {'ada__algorithm': 'SAMME',\n",
       "   'ada__learning_rate': 0.5,\n",
       "   'ada__n_estimators': 50,\n",
       "   'pca__n_components': 0.85},\n",
       "  {'ada__algorithm': 'SAMME',\n",
       "   'ada__learning_rate': 0.5,\n",
       "   'ada__n_estimators': 100,\n",
       "   'pca__n_components': 0.75},\n",
       "  {'ada__algorithm': 'SAMME',\n",
       "   'ada__learning_rate': 0.5,\n",
       "   'ada__n_estimators': 100,\n",
       "   'pca__n_components': 0.8},\n",
       "  {'ada__algorithm': 'SAMME',\n",
       "   'ada__learning_rate': 0.5,\n",
       "   'ada__n_estimators': 100,\n",
       "   'pca__n_components': 0.85},\n",
       "  {'ada__algorithm': 'SAMME',\n",
       "   'ada__learning_rate': 0.75,\n",
       "   'ada__n_estimators': 25,\n",
       "   'pca__n_components': 0.75},\n",
       "  {'ada__algorithm': 'SAMME',\n",
       "   'ada__learning_rate': 0.75,\n",
       "   'ada__n_estimators': 25,\n",
       "   'pca__n_components': 0.8},\n",
       "  {'ada__algorithm': 'SAMME',\n",
       "   'ada__learning_rate': 0.75,\n",
       "   'ada__n_estimators': 25,\n",
       "   'pca__n_components': 0.85},\n",
       "  {'ada__algorithm': 'SAMME',\n",
       "   'ada__learning_rate': 0.75,\n",
       "   'ada__n_estimators': 50,\n",
       "   'pca__n_components': 0.75},\n",
       "  {'ada__algorithm': 'SAMME',\n",
       "   'ada__learning_rate': 0.75,\n",
       "   'ada__n_estimators': 50,\n",
       "   'pca__n_components': 0.8},\n",
       "  {'ada__algorithm': 'SAMME',\n",
       "   'ada__learning_rate': 0.75,\n",
       "   'ada__n_estimators': 50,\n",
       "   'pca__n_components': 0.85},\n",
       "  {'ada__algorithm': 'SAMME',\n",
       "   'ada__learning_rate': 0.75,\n",
       "   'ada__n_estimators': 100,\n",
       "   'pca__n_components': 0.75},\n",
       "  {'ada__algorithm': 'SAMME',\n",
       "   'ada__learning_rate': 0.75,\n",
       "   'ada__n_estimators': 100,\n",
       "   'pca__n_components': 0.8},\n",
       "  {'ada__algorithm': 'SAMME',\n",
       "   'ada__learning_rate': 0.75,\n",
       "   'ada__n_estimators': 100,\n",
       "   'pca__n_components': 0.85},\n",
       "  {'ada__algorithm': 'SAMME',\n",
       "   'ada__learning_rate': 1,\n",
       "   'ada__n_estimators': 25,\n",
       "   'pca__n_components': 0.75},\n",
       "  {'ada__algorithm': 'SAMME',\n",
       "   'ada__learning_rate': 1,\n",
       "   'ada__n_estimators': 25,\n",
       "   'pca__n_components': 0.8},\n",
       "  {'ada__algorithm': 'SAMME',\n",
       "   'ada__learning_rate': 1,\n",
       "   'ada__n_estimators': 25,\n",
       "   'pca__n_components': 0.85},\n",
       "  {'ada__algorithm': 'SAMME',\n",
       "   'ada__learning_rate': 1,\n",
       "   'ada__n_estimators': 50,\n",
       "   'pca__n_components': 0.75},\n",
       "  {'ada__algorithm': 'SAMME',\n",
       "   'ada__learning_rate': 1,\n",
       "   'ada__n_estimators': 50,\n",
       "   'pca__n_components': 0.8},\n",
       "  {'ada__algorithm': 'SAMME',\n",
       "   'ada__learning_rate': 1,\n",
       "   'ada__n_estimators': 50,\n",
       "   'pca__n_components': 0.85},\n",
       "  {'ada__algorithm': 'SAMME',\n",
       "   'ada__learning_rate': 1,\n",
       "   'ada__n_estimators': 100,\n",
       "   'pca__n_components': 0.75},\n",
       "  {'ada__algorithm': 'SAMME',\n",
       "   'ada__learning_rate': 1,\n",
       "   'ada__n_estimators': 100,\n",
       "   'pca__n_components': 0.8},\n",
       "  {'ada__algorithm': 'SAMME',\n",
       "   'ada__learning_rate': 1,\n",
       "   'ada__n_estimators': 100,\n",
       "   'pca__n_components': 0.85},\n",
       "  {'ada__algorithm': 'SAMME',\n",
       "   'ada__learning_rate': 1.5,\n",
       "   'ada__n_estimators': 25,\n",
       "   'pca__n_components': 0.75},\n",
       "  {'ada__algorithm': 'SAMME',\n",
       "   'ada__learning_rate': 1.5,\n",
       "   'ada__n_estimators': 25,\n",
       "   'pca__n_components': 0.8},\n",
       "  {'ada__algorithm': 'SAMME',\n",
       "   'ada__learning_rate': 1.5,\n",
       "   'ada__n_estimators': 25,\n",
       "   'pca__n_components': 0.85},\n",
       "  {'ada__algorithm': 'SAMME',\n",
       "   'ada__learning_rate': 1.5,\n",
       "   'ada__n_estimators': 50,\n",
       "   'pca__n_components': 0.75},\n",
       "  {'ada__algorithm': 'SAMME',\n",
       "   'ada__learning_rate': 1.5,\n",
       "   'ada__n_estimators': 50,\n",
       "   'pca__n_components': 0.8},\n",
       "  {'ada__algorithm': 'SAMME',\n",
       "   'ada__learning_rate': 1.5,\n",
       "   'ada__n_estimators': 50,\n",
       "   'pca__n_components': 0.85},\n",
       "  {'ada__algorithm': 'SAMME',\n",
       "   'ada__learning_rate': 1.5,\n",
       "   'ada__n_estimators': 100,\n",
       "   'pca__n_components': 0.75},\n",
       "  {'ada__algorithm': 'SAMME',\n",
       "   'ada__learning_rate': 1.5,\n",
       "   'ada__n_estimators': 100,\n",
       "   'pca__n_components': 0.8},\n",
       "  {'ada__algorithm': 'SAMME',\n",
       "   'ada__learning_rate': 1.5,\n",
       "   'ada__n_estimators': 100,\n",
       "   'pca__n_components': 0.85},\n",
       "  {'ada__algorithm': 'SAMME.R',\n",
       "   'ada__learning_rate': 0.5,\n",
       "   'ada__n_estimators': 25,\n",
       "   'pca__n_components': 0.75},\n",
       "  {'ada__algorithm': 'SAMME.R',\n",
       "   'ada__learning_rate': 0.5,\n",
       "   'ada__n_estimators': 25,\n",
       "   'pca__n_components': 0.8},\n",
       "  {'ada__algorithm': 'SAMME.R',\n",
       "   'ada__learning_rate': 0.5,\n",
       "   'ada__n_estimators': 25,\n",
       "   'pca__n_components': 0.85},\n",
       "  {'ada__algorithm': 'SAMME.R',\n",
       "   'ada__learning_rate': 0.5,\n",
       "   'ada__n_estimators': 50,\n",
       "   'pca__n_components': 0.75},\n",
       "  {'ada__algorithm': 'SAMME.R',\n",
       "   'ada__learning_rate': 0.5,\n",
       "   'ada__n_estimators': 50,\n",
       "   'pca__n_components': 0.8},\n",
       "  {'ada__algorithm': 'SAMME.R',\n",
       "   'ada__learning_rate': 0.5,\n",
       "   'ada__n_estimators': 50,\n",
       "   'pca__n_components': 0.85},\n",
       "  {'ada__algorithm': 'SAMME.R',\n",
       "   'ada__learning_rate': 0.5,\n",
       "   'ada__n_estimators': 100,\n",
       "   'pca__n_components': 0.75},\n",
       "  {'ada__algorithm': 'SAMME.R',\n",
       "   'ada__learning_rate': 0.5,\n",
       "   'ada__n_estimators': 100,\n",
       "   'pca__n_components': 0.8},\n",
       "  {'ada__algorithm': 'SAMME.R',\n",
       "   'ada__learning_rate': 0.5,\n",
       "   'ada__n_estimators': 100,\n",
       "   'pca__n_components': 0.85},\n",
       "  {'ada__algorithm': 'SAMME.R',\n",
       "   'ada__learning_rate': 0.75,\n",
       "   'ada__n_estimators': 25,\n",
       "   'pca__n_components': 0.75},\n",
       "  {'ada__algorithm': 'SAMME.R',\n",
       "   'ada__learning_rate': 0.75,\n",
       "   'ada__n_estimators': 25,\n",
       "   'pca__n_components': 0.8},\n",
       "  {'ada__algorithm': 'SAMME.R',\n",
       "   'ada__learning_rate': 0.75,\n",
       "   'ada__n_estimators': 25,\n",
       "   'pca__n_components': 0.85},\n",
       "  {'ada__algorithm': 'SAMME.R',\n",
       "   'ada__learning_rate': 0.75,\n",
       "   'ada__n_estimators': 50,\n",
       "   'pca__n_components': 0.75},\n",
       "  {'ada__algorithm': 'SAMME.R',\n",
       "   'ada__learning_rate': 0.75,\n",
       "   'ada__n_estimators': 50,\n",
       "   'pca__n_components': 0.8},\n",
       "  {'ada__algorithm': 'SAMME.R',\n",
       "   'ada__learning_rate': 0.75,\n",
       "   'ada__n_estimators': 50,\n",
       "   'pca__n_components': 0.85},\n",
       "  {'ada__algorithm': 'SAMME.R',\n",
       "   'ada__learning_rate': 0.75,\n",
       "   'ada__n_estimators': 100,\n",
       "   'pca__n_components': 0.75},\n",
       "  {'ada__algorithm': 'SAMME.R',\n",
       "   'ada__learning_rate': 0.75,\n",
       "   'ada__n_estimators': 100,\n",
       "   'pca__n_components': 0.8},\n",
       "  {'ada__algorithm': 'SAMME.R',\n",
       "   'ada__learning_rate': 0.75,\n",
       "   'ada__n_estimators': 100,\n",
       "   'pca__n_components': 0.85},\n",
       "  {'ada__algorithm': 'SAMME.R',\n",
       "   'ada__learning_rate': 1,\n",
       "   'ada__n_estimators': 25,\n",
       "   'pca__n_components': 0.75},\n",
       "  {'ada__algorithm': 'SAMME.R',\n",
       "   'ada__learning_rate': 1,\n",
       "   'ada__n_estimators': 25,\n",
       "   'pca__n_components': 0.8},\n",
       "  {'ada__algorithm': 'SAMME.R',\n",
       "   'ada__learning_rate': 1,\n",
       "   'ada__n_estimators': 25,\n",
       "   'pca__n_components': 0.85},\n",
       "  {'ada__algorithm': 'SAMME.R',\n",
       "   'ada__learning_rate': 1,\n",
       "   'ada__n_estimators': 50,\n",
       "   'pca__n_components': 0.75},\n",
       "  {'ada__algorithm': 'SAMME.R',\n",
       "   'ada__learning_rate': 1,\n",
       "   'ada__n_estimators': 50,\n",
       "   'pca__n_components': 0.8},\n",
       "  {'ada__algorithm': 'SAMME.R',\n",
       "   'ada__learning_rate': 1,\n",
       "   'ada__n_estimators': 50,\n",
       "   'pca__n_components': 0.85},\n",
       "  {'ada__algorithm': 'SAMME.R',\n",
       "   'ada__learning_rate': 1,\n",
       "   'ada__n_estimators': 100,\n",
       "   'pca__n_components': 0.75},\n",
       "  {'ada__algorithm': 'SAMME.R',\n",
       "   'ada__learning_rate': 1,\n",
       "   'ada__n_estimators': 100,\n",
       "   'pca__n_components': 0.8},\n",
       "  {'ada__algorithm': 'SAMME.R',\n",
       "   'ada__learning_rate': 1,\n",
       "   'ada__n_estimators': 100,\n",
       "   'pca__n_components': 0.85},\n",
       "  {'ada__algorithm': 'SAMME.R',\n",
       "   'ada__learning_rate': 1.5,\n",
       "   'ada__n_estimators': 25,\n",
       "   'pca__n_components': 0.75},\n",
       "  {'ada__algorithm': 'SAMME.R',\n",
       "   'ada__learning_rate': 1.5,\n",
       "   'ada__n_estimators': 25,\n",
       "   'pca__n_components': 0.8},\n",
       "  {'ada__algorithm': 'SAMME.R',\n",
       "   'ada__learning_rate': 1.5,\n",
       "   'ada__n_estimators': 25,\n",
       "   'pca__n_components': 0.85},\n",
       "  {'ada__algorithm': 'SAMME.R',\n",
       "   'ada__learning_rate': 1.5,\n",
       "   'ada__n_estimators': 50,\n",
       "   'pca__n_components': 0.75},\n",
       "  {'ada__algorithm': 'SAMME.R',\n",
       "   'ada__learning_rate': 1.5,\n",
       "   'ada__n_estimators': 50,\n",
       "   'pca__n_components': 0.8},\n",
       "  {'ada__algorithm': 'SAMME.R',\n",
       "   'ada__learning_rate': 1.5,\n",
       "   'ada__n_estimators': 50,\n",
       "   'pca__n_components': 0.85},\n",
       "  {'ada__algorithm': 'SAMME.R',\n",
       "   'ada__learning_rate': 1.5,\n",
       "   'ada__n_estimators': 100,\n",
       "   'pca__n_components': 0.75},\n",
       "  {'ada__algorithm': 'SAMME.R',\n",
       "   'ada__learning_rate': 1.5,\n",
       "   'ada__n_estimators': 100,\n",
       "   'pca__n_components': 0.8},\n",
       "  {'ada__algorithm': 'SAMME.R',\n",
       "   'ada__learning_rate': 1.5,\n",
       "   'ada__n_estimators': 100,\n",
       "   'pca__n_components': 0.85}],\n",
       " 'split0_test_score': array([0.48125404, 0.48125404, 0.48125404, 0.58112476, 0.58112476,\n",
       "        0.58112476, 0.63994829, 0.63994829, 0.63994829, 0.54767292,\n",
       "        0.54767292, 0.54767292, 0.60269877, 0.60269877, 0.60269877,\n",
       "        0.65045249, 0.65045249, 0.65045249, 0.54290562, 0.54290562,\n",
       "        0.54290562, 0.60520362, 0.60520362, 0.60520362, 0.64924047,\n",
       "        0.64924047, 0.64924047, 0.52480608, 0.52480608, 0.52480608,\n",
       "        0.59696186, 0.59696186, 0.59696186, 0.59534583, 0.59170976,\n",
       "        0.59170976, 0.65287654, 0.65287654, 0.65287654, 0.67735941,\n",
       "        0.67735941, 0.6823691 , 0.68042986, 0.68511635, 0.67525856,\n",
       "        0.6564318 , 0.6564318 , 0.6564318 , 0.66515837, 0.66936005,\n",
       "        0.6717033 , 0.64722043, 0.66216871, 0.66265352, 0.61102133,\n",
       "        0.61102133, 0.61102133, 0.61199095, 0.63728184, 0.62047511,\n",
       "        0.58799289, 0.59574984, 0.59041694, 0.59526503, 0.59550743,\n",
       "        0.59591144, 0.56310601, 0.59195217, 0.58128636, 0.54298643,\n",
       "        0.49741435, 0.48779897]),\n",
       " 'split1_test_score': array([0.49066667, 0.49066667, 0.49066667, 0.58965657, 0.58965657,\n",
       "        0.58965657, 0.62246465, 0.62246465, 0.62246465, 0.54181818,\n",
       "        0.54181818, 0.54181818, 0.6169697 , 0.6169697 , 0.6169697 ,\n",
       "        0.65567677, 0.65567677, 0.65567677, 0.54779798, 0.54779798,\n",
       "        0.54779798, 0.60032323, 0.60032323, 0.60032323, 0.65026263,\n",
       "        0.65026263, 0.65026263, 0.50618182, 0.50618182, 0.50618182,\n",
       "        0.55789899, 0.55789899, 0.55676768, 0.60929293, 0.60929293,\n",
       "        0.62610101, 0.64105051, 0.64105051, 0.64105051, 0.6840404 ,\n",
       "        0.6840404 , 0.68476768, 0.68872727, 0.67531313, 0.68105051,\n",
       "        0.65591919, 0.65591919, 0.6550303 , 0.66739394, 0.66739394,\n",
       "        0.66351515, 0.64727273, 0.63951515, 0.64121212, 0.61955556,\n",
       "        0.61955556, 0.61155556, 0.64185859, 0.63781818, 0.63006061,\n",
       "        0.63167677, 0.62020202, 0.64032323, 0.56913131, 0.56913131,\n",
       "        0.56581818, 0.52913131, 0.56088889, 0.55943434, 0.51523232,\n",
       "        0.49365657, 0.47741414]),\n",
       " 'split2_test_score': array([0.50206061, 0.50206061, 0.50206061, 0.60347475, 0.60347475,\n",
       "        0.60347475, 0.63991919, 0.63991919, 0.63991919, 0.54763636,\n",
       "        0.54763636, 0.54763636, 0.59474747, 0.59474747, 0.59474747,\n",
       "        0.65430303, 0.65430303, 0.65430303, 0.56129293, 0.56129293,\n",
       "        0.56129293, 0.60161616, 0.60161616, 0.60161616, 0.63935354,\n",
       "        0.63935354, 0.63935354, 0.53987879, 0.53987879, 0.53987879,\n",
       "        0.58028283, 0.58028283, 0.58028283, 0.59644444, 0.61341414,\n",
       "        0.60921212, 0.65850505, 0.65850505, 0.65850505, 0.672     ,\n",
       "        0.67288889, 0.67272727, 0.65632323, 0.67507071, 0.67418182,\n",
       "        0.64331313, 0.64331313, 0.64331313, 0.66076768, 0.67078788,\n",
       "        0.67426263, 0.648     , 0.656     , 0.66222222, 0.63911111,\n",
       "        0.63911111, 0.63911111, 0.63620202, 0.63620202, 0.63232323,\n",
       "        0.61866667, 0.61147475, 0.62335354, 0.58270707, 0.58270707,\n",
       "        0.58270707, 0.58036364, 0.57470707, 0.57470707, 0.49511111,\n",
       "        0.51474747, 0.51991919]),\n",
       " 'mean_test_score': array([0.4913271 , 0.4913271 , 0.4913271 , 0.59141869, 0.59141869,\n",
       "        0.59141869, 0.63411071, 0.63411071, 0.63411071, 0.54570915,\n",
       "        0.54570915, 0.54570915, 0.60480531, 0.60480531, 0.60480531,\n",
       "        0.65347743, 0.65347743, 0.65347743, 0.55066551, 0.55066551,\n",
       "        0.55066551, 0.602381  , 0.602381  , 0.602381  , 0.64628554,\n",
       "        0.64628554, 0.64628554, 0.52362223, 0.52362223, 0.52362223,\n",
       "        0.57838123, 0.57838123, 0.57800412, 0.60036107, 0.60480561,\n",
       "        0.60900763, 0.6508107 , 0.6508107 , 0.6508107 , 0.67779994,\n",
       "        0.67809623, 0.67995468, 0.67516012, 0.67850006, 0.6768303 ,\n",
       "        0.65188804, 0.65188804, 0.65159175, 0.66444   , 0.66918062,\n",
       "        0.66982702, 0.64749772, 0.65256129, 0.65536262, 0.62322933,\n",
       "        0.62322933, 0.62056267, 0.63001719, 0.63710068, 0.62761965,\n",
       "        0.61277877, 0.6091422 , 0.61803123, 0.5823678 , 0.58244861,\n",
       "        0.5814789 , 0.55753365, 0.57584938, 0.57180926, 0.51777662,\n",
       "        0.50193946, 0.4950441 ]),\n",
       " 'std_test_score': array([0.00850707, 0.00850707, 0.00850707, 0.00920903, 0.00920903,\n",
       "        0.00920903, 0.00823502, 0.00823502, 0.00823502, 0.00275137,\n",
       "        0.00275137, 0.00275137, 0.00919365, 0.00919365, 0.00919365,\n",
       "        0.00221126, 0.00221126, 0.00221126, 0.00777562, 0.00777562,\n",
       "        0.00777562, 0.00206451, 0.00206451, 0.00206451, 0.0049194 ,\n",
       "        0.0049194 , 0.0049194 , 0.01378218, 0.01378218, 0.01378218,\n",
       "        0.01600394, 0.01600394, 0.01648813, 0.00633168, 0.00941177,\n",
       "        0.01404091, 0.00727397, 0.00727397, 0.00727397, 0.00492533,\n",
       "        0.0045823 , 0.00520352, 0.01374368, 0.00467947, 0.00301634,\n",
       "        0.00606699, 0.00606699, 0.00588176, 0.00275244, 0.00139137,\n",
       "        0.00458384, 0.00035581, 0.00956258, 0.01000746, 0.01175816,\n",
       "        0.01175816, 0.01311754, 0.01295397, 0.00067211, 0.0051357 ,\n",
       "        0.0183134 , 0.0101179 , 0.02071883, 0.01067174, 0.01076956,\n",
       "        0.01231618, 0.02128342, 0.01270723, 0.00915335, 0.01962764,\n",
       "        0.00918564, 0.01809307]),\n",
       " 'rank_test_score': array([70, 70, 70, 46, 46, 46, 26, 26, 26, 61, 61, 61, 39, 39, 39, 11, 11,\n",
       "        11, 58, 58, 58, 42, 42, 42, 22, 22, 22, 64, 64, 64, 52, 52, 54, 45,\n",
       "        38, 37, 18, 18, 18,  4,  3,  1,  6,  2,  5, 15, 15, 17,  9,  8,  7,\n",
       "        21, 14, 10, 31, 31, 33, 29, 25, 30, 35, 36, 34, 50, 49, 51, 57, 55,\n",
       "        56, 67, 68, 69])}"
      ]
     },
     "execution_count": 47,
     "metadata": {},
     "output_type": "execute_result"
    }
   ],
   "source": [
    "# Your code here \n",
    "ada_grid.cv_results_"
   ]
  },
  {
   "cell_type": "markdown",
   "metadata": {},
   "source": [
    "### Level-up (Optional): SVM pipeline with grid search \n",
    "\n",
    "As extra level-up work, construct a pipeline with grid search for support vector machines. \n",
    "* Make sure your grid isn't too big. You'll see it takes quite a while to fit SVMs with non-linear kernel functions!"
   ]
  },
  {
   "cell_type": "code",
   "execution_count": 48,
   "metadata": {
    "ExecuteTime": {
     "end_time": "2023-01-22T00:47:18.333057Z",
     "start_time": "2023-01-22T00:47:18.320046Z"
    }
   },
   "outputs": [],
   "source": [
    "from sklearn.svm import SVC"
   ]
  },
  {
   "cell_type": "code",
   "execution_count": 52,
   "metadata": {
    "ExecuteTime": {
     "end_time": "2023-01-22T01:01:33.844206Z",
     "start_time": "2023-01-22T00:55:13.179491Z"
    }
   },
   "outputs": [
    {
     "name": "stdout",
     "output_type": "stream",
     "text": [
      "Fitting 3 folds for each of 36 candidates, totalling 108 fits\n"
     ]
    },
    {
     "name": "stderr",
     "output_type": "stream",
     "text": [
      "[Parallel(n_jobs=6)]: Using backend LokyBackend with 6 concurrent workers.\n",
      "[Parallel(n_jobs=6)]: Done  38 tasks      | elapsed:  1.8min\n",
      "[Parallel(n_jobs=6)]: Done 108 out of 108 | elapsed:  6.0min finished\n"
     ]
    },
    {
     "data": {
      "text/plain": [
       "GridSearchCV(cv=3,\n",
       "             estimator=Pipeline(steps=[('scaler', StandardScaler()),\n",
       "                                       ('pca',\n",
       "                                        PCA(n_components=0.8,\n",
       "                                            random_state=123)),\n",
       "                                       ('svc', SVC(random_state=123))]),\n",
       "             n_jobs=6,\n",
       "             param_grid={'pca__n_components': [0.75, 0.8, 0.85],\n",
       "                         'svc__C': [0.5, 0.75, 1, 1.5],\n",
       "                         'svc__kernel': ['linear', 'poly', 'rbf']},\n",
       "             verbose=1)"
      ]
     },
     "execution_count": 52,
     "metadata": {},
     "output_type": "execute_result"
    }
   ],
   "source": [
    "# Your code here\n",
    "# ⏰ This cell may take a very long time to run!\n",
    "\n",
    "svc_steps = [('scaler', StandardScaler()),\n",
    "            ('pca', PCA(n_components=.8, random_state=123)),\n",
    "            ('svc', SVC(random_state=123))\n",
    "]\n",
    "\n",
    "svc_pipe = Pipeline(svc_steps)\n",
    "\n",
    "params={'pca__n_components':[.75, .8, .85],\n",
    "       'svc__kernel': ['linear', 'poly', 'rbf'],\n",
    "        'svc__C': [.5, .75, 1, 1.5],\n",
    "#         'ada__algorithm': ['SAMME', 'SAMME.R']\n",
    "       }\n",
    "\n",
    "svc_grid = GridSearchCV(svc_pipe, params, cv=3, verbose=1, n_jobs=6)\n",
    "\n",
    "svc_grid.fit(X_train, y_train)"
   ]
  },
  {
   "cell_type": "markdown",
   "metadata": {},
   "source": [
    "Use your grid search object along with `.cv_results` to get the full result overview: "
   ]
  },
  {
   "cell_type": "code",
   "execution_count": 53,
   "metadata": {
    "ExecuteTime": {
     "end_time": "2023-01-22T01:01:53.555147Z",
     "start_time": "2023-01-22T01:01:53.540281Z"
    }
   },
   "outputs": [
    {
     "data": {
      "text/plain": [
       "{'pca__n_components': 0.85, 'svc__C': 1.5, 'svc__kernel': 'rbf'}"
      ]
     },
     "execution_count": 53,
     "metadata": {},
     "output_type": "execute_result"
    }
   ],
   "source": [
    "svc_grid.best_params_"
   ]
  },
  {
   "cell_type": "code",
   "execution_count": 54,
   "metadata": {
    "ExecuteTime": {
     "end_time": "2023-01-22T01:01:55.169135Z",
     "start_time": "2023-01-22T01:01:55.156110Z"
    }
   },
   "outputs": [
    {
     "data": {
      "text/plain": [
       "0.7687066571772454"
      ]
     },
     "execution_count": 54,
     "metadata": {},
     "output_type": "execute_result"
    }
   ],
   "source": [
    "svc_grid.best_score_"
   ]
  },
  {
   "cell_type": "code",
   "execution_count": null,
   "metadata": {},
   "outputs": [],
   "source": []
  },
  {
   "cell_type": "code",
   "execution_count": null,
   "metadata": {},
   "outputs": [],
   "source": [
    "# Your code here "
   ]
  },
  {
   "cell_type": "markdown",
   "metadata": {},
   "source": [
    "## Note\n",
    "\n",
    "Note that this solution is only one of many options. The results in the Random Forest and AdaBoost models show that there is a lot of improvement possible by tuning the hyperparameters further, so make sure to explore this yourself!"
   ]
  },
  {
   "cell_type": "markdown",
   "metadata": {},
   "source": [
    "## Summary \n",
    "\n",
    "Great! You've gotten a lot of practice in using PCA in pipelines. What algorithm would you choose and why?"
   ]
  }
 ],
 "metadata": {
  "kernelspec": {
   "display_name": "Python 3",
   "language": "python",
   "name": "python3"
  },
  "language_info": {
   "codemirror_mode": {
    "name": "ipython",
    "version": 3
   },
   "file_extension": ".py",
   "mimetype": "text/x-python",
   "name": "python",
   "nbconvert_exporter": "python",
   "pygments_lexer": "ipython3",
   "version": "3.8.5"
  },
  "toc": {
   "base_numbering": 1,
   "nav_menu": {},
   "number_sections": true,
   "sideBar": true,
   "skip_h1_title": false,
   "title_cell": "Table of Contents",
   "title_sidebar": "Contents",
   "toc_cell": false,
   "toc_position": {},
   "toc_section_display": true,
   "toc_window_display": false
  },
  "varInspector": {
   "cols": {
    "lenName": 16,
    "lenType": 16,
    "lenVar": 40
   },
   "kernels_config": {
    "python": {
     "delete_cmd_postfix": "",
     "delete_cmd_prefix": "del ",
     "library": "var_list.py",
     "varRefreshCmd": "print(var_dic_list())"
    },
    "r": {
     "delete_cmd_postfix": ") ",
     "delete_cmd_prefix": "rm(",
     "library": "var_list.r",
     "varRefreshCmd": "cat(var_dic_list()) "
    }
   },
   "types_to_exclude": [
    "module",
    "function",
    "builtin_function_or_method",
    "instance",
    "_Feature"
   ],
   "window_display": false
  }
 },
 "nbformat": 4,
 "nbformat_minor": 2
}
